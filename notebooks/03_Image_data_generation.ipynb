{
 "cells": [
  {
   "cell_type": "code",
   "execution_count": null,
   "metadata": {
    "ExecuteTime": {
     "end_time": "2019-04-20T05:57:27.596018Z",
     "start_time": "2019-04-20T05:57:27.414543Z"
    }
   },
   "outputs": [],
   "source": [
    "import os\n",
    "import re\n",
    "import time\n",
    "from pathlib import Path\n",
    "import numpy as np\n",
    "import pandas as pd\n",
    "import holoviews as hv\n",
    "import hvplot.pandas\n",
    "from holoviews import opts,dim\n",
    "import matplotlib.pyplot as plt\n",
    "import cv2\n",
    "import random\n",
    "from PIL import Image\n",
    "from PIL import ImageFilter\n",
    "from PIL import ImageEnhance\n",
    "from IPython.display import display_png\n",
    "opts.defaults(opts.Curve(width=600, framewise=True))\n",
    "import logging\n",
    "logging.getLogger(\"requests\").setLevel(logging.WARNING)\n",
    "logging.getLogger(\"urllib3\").setLevel(logging.WARNING)\n",
    "%matplotlib inline\n",
    "hv.extension('bokeh')\n",
    "dims = [150,330]"
   ]
  },
  {
   "cell_type": "markdown",
   "metadata": {},
   "source": [
    "### Data"
   ]
  },
  {
   "cell_type": "code",
   "execution_count": null,
   "metadata": {
    "ExecuteTime": {
     "end_time": "2019-04-19T18:02:28.539132Z",
     "start_time": "2019-04-19T18:02:28.529502Z"
    }
   },
   "outputs": [],
   "source": [
    "labels = pd.read_csv('../data/label/labels_with_class.csv')"
   ]
  },
  {
   "cell_type": "code",
   "execution_count": null,
   "metadata": {
    "ExecuteTime": {
     "end_time": "2019-04-19T18:02:28.551406Z",
     "start_time": "2019-04-19T18:02:28.541948Z"
    }
   },
   "outputs": [],
   "source": [
    "data_path = Path('../data')\n",
    "file_names = [str(data_path/file)[:-4] for file in sorted(os.listdir(data_path)) if '.txt' in file]\n",
    "rec_ids = [file.split('/')[-1] for file in file_names]"
   ]
  },
  {
   "cell_type": "code",
   "execution_count": null,
   "metadata": {
    "ExecuteTime": {
     "end_time": "2019-04-19T18:02:28.559790Z",
     "start_time": "2019-04-19T18:02:28.554557Z"
    }
   },
   "outputs": [],
   "source": [
    "labels.step1 = labels.pH\n",
    "labels.step2 = labels.pH\n",
    "labels.step3 = labels.pH\n",
    "labels.step4 = labels.pH"
   ]
  },
  {
   "cell_type": "markdown",
   "metadata": {},
   "source": [
    "### Basic"
   ]
  },
  {
   "cell_type": "code",
   "execution_count": null,
   "metadata": {
    "ExecuteTime": {
     "end_time": "2019-04-19T18:02:28.621607Z",
     "start_time": "2019-04-19T18:02:28.562543Z"
    },
    "code_folding": [
     0
    ]
   },
   "outputs": [],
   "source": [
    "def ma(x, period, type_ ='simple'): \n",
    "    x = np.asarray(x)\n",
    "    if type=='simple':\n",
    "        weights = np.ones(period)\n",
    "    else:\n",
    "        weights = np.exp(np.linspace(-1., 0., period)) #expontial MA\n",
    "\n",
    "    weights /= weights.sum()\n",
    "\n",
    "    a =  np.convolve(x, weights, mode='full')[:len(x)]\n",
    "    a[:period] = a[period]\n",
    "    return a\n",
    "\n",
    "def previous_points(data,from_point,num_of_points):\n",
    "    return data[from_point-num_of_points:from_point]\n",
    "\n",
    "def fill_mean(fhr,window_size):\n",
    "    rolling_window = window_size\n",
    "    signal = fhr.copy() # We don't want to modify the actual signal by mistake so copy\n",
    "#     print(pct_zero(signal))\n",
    "    start_pt = rolling_window+1\n",
    "    corrected_fhr = signal.copy()\n",
    "    for i,c in enumerate(signal[start_pt:]):\n",
    "        if c == 0:\n",
    "            corrected_fhr[i+start_pt] = np.mean(previous_points(corrected_fhr,i+start_pt,rolling_window))\n",
    "    return corrected_fhr"
   ]
  },
  {
   "cell_type": "code",
   "execution_count": null,
   "metadata": {
    "ExecuteTime": {
     "end_time": "2019-04-19T18:02:28.655535Z",
     "start_time": "2019-04-19T18:02:28.625338Z"
    },
    "code_folding": [
     0,
     1
    ]
   },
   "outputs": [],
   "source": [
    "class Record:\n",
    "    def __init__(self, location):\n",
    "        #'fhr_orig' is unmodified data, 'fhr' is zero-removed data\n",
    "        self.rec_id = int(str(location).split('/')[-1])\n",
    "        self.fhr,self.uc = self.read_signals(location) #fhr orignal,\n",
    "        self.length = len(self.fhr)\n",
    "        self.info,self.freq = self.read_info(location)      \n",
    "        self.labels = self.get_labels()\n",
    "        self.pos2stage = int(self.info['Pos'])         #beg of stage 2\n",
    "        self.vline = hv.VLine(self.pos2stage).opts(color='black',line_dash = 'dotted',line_width = 1)\n",
    "        #self.pH = self.info['pH']\n",
    "        #self.delType = self.info['Deliv']                   #Delivery Type\n",
    "        #self.fhr_pro,self.pos2stage_pro = self.preprocess_fhr()          #fhr processed ,pos2stage processed\n",
    "        #self.vline_pro = hv.VLine(self.pos2stage_pro).opts(color='green',line_dash = 'dotted')\n",
    "       \n",
    "    def __str__(self):\n",
    "        return str(self.rec_id)\n",
    "    \n",
    "    def __repr__(self):\n",
    "        return self.__str__()\n",
    "    \n",
    "    def read_signals(self,location):\n",
    "        fhr_l = []\n",
    "        uc_l = []\n",
    "        f = open(str(location)+'.txt') #open signal data file\n",
    "        for line in f.readlines():\n",
    "            line = line.split('\\t')\n",
    "            fhr_v = int(line[1]) #fhr_value\n",
    "            uc_v = int(line[2])  #uc_value\n",
    "            fhr_l.append(fhr_v)\n",
    "            uc_l.append(uc_v)\n",
    "        fhr = np.asarray(fhr_l)/100 #fhr:fhr array\n",
    "        uc = np.asarray(uc_l)/100 #uc:uc_array\n",
    "        f.close()\n",
    "        return fhr,uc\n",
    "    \n",
    "    def read_info(self,location):\n",
    "        info = dict()\n",
    "        f = open(str(location)+'.hea') #open info file\n",
    "        lines = [line for line in f.readlines()]\n",
    "        for line in lines[7:]:\n",
    "            if '#' in line:\n",
    "                if re.search(r'\\d+', line):\n",
    "                    info[re.search(r'\\w+', line).group()] = re.search(r\"[-+]?\\d*\\.\\d+|\\d+\", line).group()\n",
    "        f.close()\n",
    "        freq = int(lines[0].split(' ')[2]) #Frequency\n",
    "        return info,freq\n",
    "        \n",
    "    def get_info_df(self):\n",
    "        df = pd.DataFrame.from_dict(self.info,orient = 'index')\n",
    "        return df\n",
    "    \n",
    "    def get_labels(self):\n",
    "        rec_labels = labels[labels.rec_id == self.rec_id]\n",
    "        return rec_labels.values[0][[1,2,3,6]] #step1, step2, step3 ,pH\n",
    "    \n",
    "    def preprocess_fhr(self):\n",
    "        signal = self.fhr.copy()\n",
    "        missing_count = 0\n",
    "        corr_sig = []   #corrected_signal\n",
    "        for i in signal:\n",
    "            if i!= 0:\n",
    "        #         print(i)\n",
    "                corr_sig.append(i)\n",
    "            else:\n",
    "                missing_count+=1\n",
    "\n",
    "        new_pos2stage = self.pos2stage - missing_count  #corrected pos2stage\n",
    "        \n",
    "        return np.asarray(corr_sig),new_pos2stage\n",
    "    \n",
    "    def plot_fhr(self,orignal = True):\n",
    "        if orignal:\n",
    "            fhr = self.fhr\n",
    "            vline = self.vline\n",
    "        else:\n",
    "            fhr = self.fhr_pro\n",
    "            vline = self.vline_pro\n",
    "        hline_1  = hv.HLine(160,).opts(color='red',line_dash = 'dotted',width = 1,)\n",
    "        hline_2  = hv.HLine(110,).opts(color='red',line_dash = 'dotted',width = 1)\n",
    "        fhr_plot = hv.Curve(fhr,'Time','FHR')*vline * hline_1 * hline_2\n",
    "        fhr_plot.opts(\n",
    "            opts.Curve( height=400, width=700,xaxis=None, line_width=1, tools=['hover'],line_alpha = 1))\n",
    "        return fhr_plot\n",
    "       \n",
    "    def plot_uc(self):\n",
    "        uc_plot = hv.Curve(self.uc,'Time','UC')*self.vline#*self.vline\n",
    "        uc_plot.opts(\n",
    "            opts.Curve( height=250, width=700,xaxis=None, line_width=1, tools=['hover'],color = 'orange'))\n",
    "        return uc_plot\n",
    "    \n",
    "    def plot_labels(self):\n",
    "        label_plot = hv.Bars(self.labels)\n",
    "        label_plot.opts(opts.Bars(height = 250, width = 250,color = 'green'))\n",
    "        l_1 = hv.HLine(1).opts(color='blue',line_dash = 'dotted')\n",
    "        l_2 = hv.HLine(2).opts(color='blue',line_dash = 'dotted')\n",
    "        l_3 = hv.HLine(3).opts(color='blue',line_dash = 'dotted')\n",
    "        return label_plot * l_1 * l_2 * l_3"
   ]
  },
  {
   "cell_type": "markdown",
   "metadata": {},
   "source": [
    "### Save and Load"
   ]
  },
  {
   "cell_type": "code",
   "execution_count": null,
   "metadata": {
    "ExecuteTime": {
     "end_time": "2019-04-19T18:02:28.674563Z",
     "start_time": "2019-04-19T18:02:28.659081Z"
    },
    "code_folding": [
     0
    ]
   },
   "outputs": [],
   "source": [
    "def load_signals(location, **kwargs):\n",
    "    rec = Record(location)\n",
    "    \n",
    "    corrected_fhr = fill_mean(rec.fhr,window_size = 50)\n",
    "    mean_fill = hv.Curve(corrected_fhr).opts(line_width =1,line_alpha = 0.9,color = '#1b92f9')\n",
    "                                                   \n",
    "    value_ma_fhr = ma(corrected_fhr, period = 100,type_ = 'simple')\n",
    "    ma_fhr_plot = hv.Curve(value_ma_fhr,'FHR_ema').opts(line_width =1,color = 'black')\n",
    "    \n",
    "    fhr_upper  = hv.HLine(160,).opts(line_dash = 'dotted',line_width = 1,color='red',)\n",
    "    fhr_lower  = hv.HLine(110,).opts(line_dash = 'dotted',line_width = 1,color='red',)\n",
    "    \n",
    "    uc_shift_down = 70\n",
    "    uc_plot = hv.Curve(rec.uc - uc_shift_down,'Time','UC')*rec.vline#*self.vline\n",
    "    uc_plot.opts(opts.Curve(xaxis=None, line_width=1, tools=['hover'],color = 'pink'))\n",
    "    \n",
    "    value_ma_uc = ma(rec.uc, period = 100,type_ = 'simple')\n",
    "    ma_uc_plot = hv.Curve(value_ma_uc - uc_shift_down,'uc_ema').opts(line_width =1,color = 'black')\n",
    "    \n",
    "    uc_l1  = hv.HLine(20 - uc_shift_down,).opts(line_dash = 'dotted',line_width = 1,color='red',)\n",
    "    uc_l2  = hv.HLine(60 - uc_shift_down,).opts(line_dash = 'dotted',line_width = 1,color='red',)\n",
    "    uc_l3  = hv.HLine(100 - uc_shift_down,).opts(line_dash = 'dotted',line_width = 1,color='red',)\n",
    "\n",
    "    layout =  mean_fill * ma_fhr_plot * uc_plot  * fhr_upper * fhr_lower * uc_l1 * uc_l2 * uc_l3#* ma_uc_plot\n",
    "    layout.opts(height =400,width = 800)\n",
    "    \n",
    "    return layout\n",
    "\n",
    "dmap = hv.DynamicMap(load_signals, kdims='FHR').redim.values(FHR=file_names)\n",
    "# dmap"
   ]
  },
  {
   "cell_type": "markdown",
   "metadata": {},
   "source": [
    "### Helper functions"
   ]
  },
  {
   "cell_type": "code",
   "execution_count": null,
   "metadata": {
    "ExecuteTime": {
     "end_time": "2019-04-19T18:02:28.687739Z",
     "start_time": "2019-04-19T18:02:28.677267Z"
    },
    "code_folding": [
     0
    ]
   },
   "outputs": [],
   "source": [
    "renderer = hv.renderer(\"bokeh\")\n",
    "def load_signal(fhr,uc,dims):\n",
    "    \n",
    "    height,width = dims\n",
    "#     corrected_fhr = fill_mean(fhr,window_size = 50)\n",
    "    mean_fill = hv.Curve(fhr).opts(line_width =1.2,line_alpha = 0.9,color = 'black')\n",
    "\n",
    "\n",
    "    fhr_upper  = hv.HLine(150,).opts(line_dash = 'dotted',line_width = 1,color='red',)\n",
    "    fhr_upper2  = hv.HLine(180,).opts(line_dash = 'solid',line_width = 1,color='red',)\n",
    "    fhr_middle  = hv.HLine(130,).opts(line_dash = 'dotted',line_width = 1,color='red',)\n",
    "    fhr_lower  = hv.HLine(110,).opts(line_dash = 'solid',line_width = 1,color='red',)\n",
    "    fhr_lower2  = hv.HLine(40,).opts(line_dash = 'solid',line_width = 1,color='red',)\n",
    "\n",
    "    uc_shift_down = 20\n",
    "    uc_plot = hv.Curve(uc - uc_shift_down,'Time','UC')\n",
    "    uc_plot.opts(opts.Curve(xaxis=None, line_width=2, tools=['hover'],color = 'orange')) \n",
    "    #colors have been chosen carefully to keep both signals separate\n",
    "\n",
    "#     value_ma_uc = ma(uc, period = 100,type_ = 'simple')\n",
    "\n",
    "    uc_l1  = hv.HLine(10 - uc_shift_down,).opts(line_dash = 'dotted',line_width = 1,color='red',)\n",
    "    uc_l2  = hv.HLine(30 - uc_shift_down,).opts(line_dash = 'dotted',line_width = 1,color='red',)\n",
    "\n",
    "    layout =  mean_fill * uc_plot * fhr_upper * fhr_lower * uc_l1 * uc_l2 *fhr_middle*fhr_lower2*fhr_upper2 #* uc_l3# * ma_uc_plot\n",
    "    layout.opts(height =height,width = width,xlim = (-20,(max(np.shape(fhr)[0],np.shape(uc)[0])+20)), ylim = (-30,np.max(fhr)+10))\n",
    "    \n",
    "    return layout"
   ]
  },
  {
   "cell_type": "code",
   "execution_count": null,
   "metadata": {
    "ExecuteTime": {
     "end_time": "2019-04-19T18:02:28.702729Z",
     "start_time": "2019-04-19T18:02:28.690561Z"
    },
    "code_folding": [
     0
    ]
   },
   "outputs": [],
   "source": [
    "def divide_signal_c0(location,dims=dims):\n",
    "    \n",
    "    rec = Record(location) \n",
    "    length = rec.length -1\n",
    "    plots = []\n",
    "    fhr = rec.fhr\n",
    "    uc = rec.uc\n",
    "    \n",
    "    fhr = fill_mean(fhr,window_size = 50)\n",
    "    \n",
    "    #------------- batch1\n",
    "    div_starts = []\n",
    "    div_ends = []\n",
    "    counter = 0\n",
    "    \n",
    "    total_divs = int((len(fhr)-1)/800)\n",
    "    #print(total_divs)\n",
    "    while total_divs>counter:\n",
    "        div = counter\n",
    "        div_start = (counter*800)\n",
    "        div_end = ((counter+1)*800)\n",
    "        div_starts.append(div_start)\n",
    "        div_ends.append(div_end)\n",
    "        counter+=1\n",
    "    \n",
    "    if (int((len(fhr)-1))%800) >150:\n",
    "        div_starts.append(int((len(fhr)-1)-800))\n",
    "        div_starts.append(int((len(fhr)-1)))\n",
    "                        \n",
    "    \n",
    "    for i,(s,e )in enumerate(zip(div_starts,div_ends)):\n",
    "        fhr_g = fhr[s:e]\n",
    "        uc_g = uc[s:e]\n",
    "        if np.mean(fhr_g)>=40:\n",
    "            plots.append(load_signal(fhr_g,uc_g,dims=dims))\n",
    "            \n",
    "        \n",
    "    #-------------batch2\n",
    "    \n",
    "    div_starts = []\n",
    "    div_ends = []\n",
    "    counter = 0\n",
    "    \n",
    "    total_divs = int((len(fhr)-401)/800)\n",
    "    #print(total_divs)\n",
    "    while total_divs>counter:\n",
    "        div = counter\n",
    "        div_start = (counter*800) + 400\n",
    "        div_end = ((counter+1)*800) + 400\n",
    "        div_starts.append(div_start)\n",
    "        div_ends.append(div_end)\n",
    "        counter+=1\n",
    "        \n",
    "      \n",
    "    for i,(s,e )in enumerate(zip(div_starts,div_ends)):\n",
    "        fhr_g = fhr[s:e]\n",
    "        uc_g = uc[s:e]\n",
    "        if np.mean(fhr_g)>=40:\n",
    "            plots.append(load_signal(fhr_g,uc_g,dims=dims))\n",
    "            \n",
    "\n",
    "    return plots"
   ]
  },
  {
   "cell_type": "code",
   "execution_count": null,
   "metadata": {
    "ExecuteTime": {
     "end_time": "2019-04-19T18:02:28.743592Z",
     "start_time": "2019-04-19T18:02:28.705597Z"
    },
    "code_folding": [
     0
    ]
   },
   "outputs": [],
   "source": [
    "def divide_signal_c1(location,dims=dims):\n",
    "    \n",
    "    rec = Record(location) \n",
    "    length = rec.length -1\n",
    "    plots = []\n",
    "    fhr = rec.fhr\n",
    "    uc = rec.uc\n",
    "    \n",
    "    fhr = fill_mean(fhr,window_size = 50)\n",
    "    \n",
    "    #------------- batch0\n",
    "    div_starts = []\n",
    "    div_ends = []\n",
    "    counter = 0\n",
    "    \n",
    "    total_divs = int((len(fhr)-1)/800)\n",
    "    #print(total_divs)\n",
    "    while total_divs>counter:\n",
    "        div = counter\n",
    "        div_start = (counter*800)\n",
    "        div_end = ((counter+1)*800)\n",
    "        div_starts.append(div_start)\n",
    "        div_ends.append(div_end)\n",
    "        counter+=1\n",
    "    \n",
    "    if (int((len(fhr)-1))%800) >150:\n",
    "        div_starts.append(int((len(fhr)-1)-800))\n",
    "        div_starts.append(int((len(fhr)-1)))\n",
    "                        \n",
    "    \n",
    "    for i,(s,e )in enumerate(zip(div_starts,div_ends)):\n",
    "        fhr_g = fhr[s:e]\n",
    "        uc_g = uc[s:e]\n",
    "        if np.mean(fhr_g)>=20:\n",
    "            plots.append(load_signal(fhr_g,uc_g,dims=dims))\n",
    "            \n",
    "        \n",
    "    #-------------batch1\n",
    "    \n",
    "    div_starts = []\n",
    "    div_ends = []\n",
    "    counter = 0\n",
    "    \n",
    "    total_divs = int((len(fhr)-101)/800)\n",
    "    #print(total_divs)\n",
    "    while total_divs>counter:\n",
    "        div = counter\n",
    "        div_start = (counter*800) + 100\n",
    "        div_end = ((counter+1)*800) + 100\n",
    "        div_starts.append(div_start)\n",
    "        div_ends.append(div_end)\n",
    "        counter+=1\n",
    "        \n",
    "      \n",
    "    for i,(s,e )in enumerate(zip(div_starts,div_ends)):\n",
    "        fhr_g = fhr[s:e]\n",
    "        uc_g = uc[s:e]\n",
    "        if np.mean(fhr_g)>=20:\n",
    "            plots.append(load_signal(fhr_g,uc_g,dims=dims))\n",
    "            \n",
    "    #-------------batch2\n",
    "    \n",
    "    div_starts = []\n",
    "    div_ends = []\n",
    "    counter = 0\n",
    "    \n",
    "    total_divs = int((len(fhr)-201)/800)\n",
    "    #print(total_divs)\n",
    "    while total_divs>counter:\n",
    "        div = counter\n",
    "        div_start = (counter*800) + 200\n",
    "        div_end = ((counter+1)*800) + 200\n",
    "        div_starts.append(div_start)\n",
    "        div_ends.append(div_end)\n",
    "        counter+=1\n",
    "        \n",
    "      \n",
    "    for i,(s,e )in enumerate(zip(div_starts,div_ends)):\n",
    "        fhr_g = fhr[s:e]\n",
    "        uc_g = uc[s:e]\n",
    "        if np.mean(fhr_g)>=20:\n",
    "            plots.append(load_signal(fhr_g,uc_g,dims=dims))\n",
    "            \n",
    "    #-------------batch3\n",
    "    \n",
    "    div_starts = []\n",
    "    div_ends = []\n",
    "    counter = 0\n",
    "    \n",
    "    total_divs = int((len(fhr)-301)/800)\n",
    "    #print(total_divs)\n",
    "    while total_divs>counter:\n",
    "        div = counter\n",
    "        div_start = (counter*800) + 300\n",
    "        div_end = ((counter+1)*800) + 300\n",
    "        div_starts.append(div_start)\n",
    "        div_ends.append(div_end)\n",
    "        counter+=1\n",
    "        \n",
    "      \n",
    "    for i,(s,e )in enumerate(zip(div_starts,div_ends)):\n",
    "        fhr_g = fhr[s:e]\n",
    "        uc_g = uc[s:e]\n",
    "        if np.mean(fhr_g)>=20:\n",
    "            plots.append(load_signal(fhr_g,uc_g,dims=dims))\n",
    "    \n",
    "    #-------------batch4\n",
    "    \n",
    "    div_starts = []\n",
    "    div_ends = []\n",
    "    counter = 0\n",
    "    \n",
    "    total_divs = int((len(fhr)-401)/800)\n",
    "    #print(total_divs)\n",
    "    while total_divs>counter:\n",
    "        div = counter\n",
    "        div_start = (counter*800) + 400\n",
    "        div_end = ((counter+1)*800) + 400\n",
    "        div_starts.append(div_start)\n",
    "        div_ends.append(div_end)\n",
    "        counter+=1\n",
    "        \n",
    "      \n",
    "    for i,(s,e )in enumerate(zip(div_starts,div_ends)):\n",
    "        fhr_g = fhr[s:e]\n",
    "        uc_g = uc[s:e]\n",
    "        if np.mean(fhr_g)>=20:\n",
    "            plots.append(load_signal(fhr_g,uc_g,dims=dims))\n",
    "\n",
    "    #-------------batch5\n",
    "    \n",
    "    div_starts = []\n",
    "    div_ends = []\n",
    "    counter = 0\n",
    "    \n",
    "    total_divs = int((len(fhr)-501)/800)\n",
    "    #print(total_divs)\n",
    "    while total_divs>counter:\n",
    "        div = counter\n",
    "        div_start = (counter*800) + 500\n",
    "        div_end = ((counter+1)*800) + 500\n",
    "        div_starts.append(div_start)\n",
    "        div_ends.append(div_end)\n",
    "        counter+=1\n",
    "        \n",
    "    for i,(s,e )in enumerate(zip(div_starts,div_ends)):\n",
    "        fhr_g = fhr[s:e]\n",
    "        uc_g = uc[s:e]\n",
    "        if np.mean(fhr_g)>=20:\n",
    "            plots.append(load_signal(fhr_g,uc_g,dims=dims))\n",
    "   \n",
    "    #-------------batch6\n",
    "    \n",
    "    div_starts = []\n",
    "    div_ends = []\n",
    "    counter = 0\n",
    "    \n",
    "    total_divs = int((len(fhr)-601)/800)\n",
    "    #print(total_divs)\n",
    "    while total_divs>counter:\n",
    "        div = counter\n",
    "        div_start = (counter*800) + 600\n",
    "        div_end = ((counter+1)*800) + 600\n",
    "        div_starts.append(div_start)\n",
    "        div_ends.append(div_end)\n",
    "        counter+=1\n",
    "\n",
    "      \n",
    "    for i,(s,e )in enumerate(zip(div_starts,div_ends)):\n",
    "        fhr_g = fhr[s:e]\n",
    "        uc_g = uc[s:e]\n",
    "        if np.mean(fhr_g)>=20:\n",
    "            plots.append(load_signal(fhr_g,uc_g,dims=dims))\n",
    "\n",
    "    #-------------batch7\n",
    "    \n",
    "    div_starts = []\n",
    "    div_ends = []\n",
    "    counter = 0\n",
    "    \n",
    "    total_divs = int((len(fhr)-701)/800)\n",
    "    #print(total_divs)\n",
    "    while total_divs>counter:\n",
    "        div = counter\n",
    "        div_start = (counter*800) + 700\n",
    "        div_end = ((counter+1)*800) + 700\n",
    "        div_starts.append(div_start)\n",
    "        div_ends.append(div_end)\n",
    "        counter+=1\n",
    "\n",
    "      \n",
    "    for i,(s,e )in enumerate(zip(div_starts,div_ends)):\n",
    "        fhr_g = fhr[s:e]\n",
    "        uc_g = uc[s:e]\n",
    "        if np.mean(fhr_g)>=20:\n",
    "            plots.append(load_signal(fhr_g,uc_g,dims=dims))\n",
    "\n",
    "    #-------------batch7\n",
    "    \n",
    "    div_starts = []\n",
    "    div_ends = []\n",
    "    counter = 0\n",
    "    \n",
    "    total_divs = int((len(fhr)-701)/800)\n",
    "    #print(total_divs)\n",
    "    while total_divs>counter:\n",
    "        div = counter\n",
    "        div_start = (counter*800) + 700\n",
    "        div_end = ((counter+1)*800) + 700\n",
    "        div_starts.append(div_start)\n",
    "        div_ends.append(div_end)\n",
    "        counter+=1\n",
    "\n",
    "      \n",
    "    for i,(s,e )in enumerate(zip(div_starts,div_ends)):\n",
    "        fhr_g = fhr[s:e]\n",
    "        uc_g = uc[s:e]\n",
    "        if np.mean(fhr_g)>=20:\n",
    "            plots.append(load_signal(fhr_g,uc_g,dims=dims))\n",
    "\n",
    "\n",
    "    return plots"
   ]
  },
  {
   "cell_type": "code",
   "execution_count": null,
   "metadata": {
    "ExecuteTime": {
     "end_time": "2019-04-19T18:02:28.750473Z",
     "start_time": "2019-04-19T18:02:28.746594Z"
    }
   },
   "outputs": [],
   "source": [
    "# plots = divide_signal_c1(file_names[0],)\n",
    "# plots[-1]"
   ]
  },
  {
   "cell_type": "code",
   "execution_count": null,
   "metadata": {
    "ExecuteTime": {
     "end_time": "2019-04-19T18:02:28.769937Z",
     "start_time": "2019-04-19T18:02:28.756664Z"
    },
    "code_folding": [
     0,
     6,
     12
    ]
   },
   "outputs": [],
   "source": [
    "def rotate_(image, angle, color = \"#ffffff\"):   #rotate fill with white\n",
    "    im = image.rotate(angle,resample=Image.BICUBIC, expand=True)\n",
    "    bg = Image.new(\"L\", im.size, color)\n",
    "    bg.paste(im, im)\n",
    "    return bg\n",
    "\n",
    "# def rotate_with_fill(image, angle,contrast =1.5, color = \"#ffffff\"): #main rotation fn\n",
    "#     i = rotate_(image, angle, color)\n",
    "#     i = i.resize(image.size)\n",
    "#     enh = ImageEnhance.Contrast(i)\n",
    "#     return enh.enhance(contrast)\n",
    "\n",
    "def save_augmentations(img,save_path,rec_id,label,div): #14 augmentations/(part or step)\n",
    "    j = 1\n",
    "    img = img.crop((52,0,302,150)) #crop out unwanted portion\n",
    "    img_save_path = Path(f'{save_path}/{rec_id}_label_{label}_div_{div}')\n",
    "    img.save(str(img_save_path)+f'_{j}.png')\n",
    "    j+=1\n",
    "#     rotate_with_fill(img,np.random.randint(-6,6)).save(str(img_save_path)+f'_{j}.png')  #rotate\n",
    "#     j+=1\n",
    "#     rotate_with_fill(img,np.random.randint(2,5)).save(str(img_save_path)+f'_{j}.png') #Contour\n",
    "#     j+=1\n",
    "    enh = ImageEnhance.Brightness(img) #Brightness\n",
    "    enh.enhance(1.1).rotate(np.random.randint(-6,6)).save(str(img_save_path)+f'_{j}.png')\n",
    "    j+=1\n",
    "#     enh = ImageEnhance.Contrast(img)  #Contrast\n",
    "#     rotate_(enh.enhance(1),np.random.randint(-6,6)).save(str(img_save_path)+f'_{j}.png')\n",
    "#     j+=1\n",
    "#     enh = ImageEnhance.Contrast(img)  #Contrast\n",
    "#     enh.enhance(5).rotate(np.random.randint(-6,6)).save(str(img_save_path)+f'_{j}.png')\n",
    "#     j+=1 \n",
    "    enh = ImageEnhance.Sharpness(img) #Sharpness\n",
    "    enh.enhance(6).rotate(np.random.randint(-7,7)).save(str(img_save_path)+f'_{j}.png')\n",
    "    j+=1\n",
    "    enh = ImageEnhance.Sharpness(img) #Sharpness\n",
    "    enh.enhance(3).rotate(np.random.randint(-6,6)).save(str(img_save_path)+f'_{j}.png')\n",
    "    j+=1"
   ]
  },
  {
   "cell_type": "markdown",
   "metadata": {},
   "source": [
    "### Save Images"
   ]
  },
  {
   "cell_type": "code",
   "execution_count": null,
   "metadata": {
    "ExecuteTime": {
     "end_time": "2019-04-19T18:02:28.779950Z",
     "start_time": "2019-04-19T18:02:28.774185Z"
    }
   },
   "outputs": [],
   "source": [
    "os.makedirs(f\"../data/image_data\",exist_ok=True)\n",
    "os.makedirs(f\"../data/image_data/data\",exist_ok=True)\n",
    "os.makedirs(f\"../data/image_data/records\",exist_ok=True)\n",
    "os.makedirs(f\"../data/image_data/records/class_0\",exist_ok=True)\n",
    "os.makedirs(f\"../data/image_data/records/class_1\",exist_ok=True)\n",
    "os.makedirs(f\"../data/image_data/models\",exist_ok=True)\n",
    "\n",
    "os.makedirs(f\"../data/image_data/data/train\",exist_ok=True)\n",
    "os.makedirs(f\"../data/image_data/data/train/class_0\",exist_ok=True)\n",
    "os.makedirs(f\"../data/image_data/data/train/class_1\",exist_ok=True)\n",
    "\n",
    "\n",
    "os.makedirs(f\"../data/image_data/data/test\",exist_ok=True)\n",
    "os.makedirs(f\"../data/image_data/data/test/class_0\",exist_ok=True)\n",
    "os.makedirs(f\"../data/image_data/data/test/class_1\",exist_ok=True)\n"
   ]
  },
  {
   "cell_type": "code",
   "execution_count": null,
   "metadata": {
    "ExecuteTime": {
     "end_time": "2019-04-19T18:02:30.175850Z",
     "start_time": "2019-04-19T18:02:28.782724Z"
    }
   },
   "outputs": [],
   "source": [
    "class_0_ids = [str(f) for f in [int(name.split('/')[-1]) for name in file_names] if f in labels[labels['class'] == 0].rec_id.values]\n",
    "class_0_files = [f'../data/{f}' for f in [int(name.split('/')[-1]) for name in file_names] if f in labels[labels['class'] == 0].rec_id.values]\n",
    "\n",
    "class_1_ids = [str(f) for f in [int(name.split('/')[-1]) for name in file_names] if f in labels[labels['class'] == 1].rec_id.values]\n",
    "class_1_files = [f'../data/{f}' for f in [int(name.split('/')[-1]) for name in file_names] if f in labels[labels['class'] == 1].rec_id.values]\n",
    "\n",
    "len(class_0_files),len(class_1_files)"
   ]
  },
  {
   "cell_type": "markdown",
   "metadata": {},
   "source": [
    "### Class_0 record generation"
   ]
  },
  {
   "cell_type": "code",
   "execution_count": null,
   "metadata": {
    "ExecuteTime": {
     "end_time": "2019-04-19T20:15:20.816374Z",
     "start_time": "2019-04-19T18:02:30.179019Z"
    },
    "scrolled": true
   },
   "outputs": [],
   "source": [
    "error_list = []\n",
    "count = 0\n",
    "for file in class_0_files:\n",
    "    file_name = str(file).split('/')[-1]\n",
    "    os.makedirs(f\"../data/image_data/records/class_0/{file_name}\",exist_ok=True)\n",
    "    \n",
    "    label = 0\n",
    "    \n",
    "    #save images\n",
    "    try:\n",
    "        graphs = divide_signal_c0(file)\n",
    "        for i,graph in enumerate(graphs):\n",
    "            graph_name = f'../data/image_data/records/class_0/{file_name}/{file_name}_label_{label}_div_{i}.png'\n",
    "            hv.save(graph,graph_name,backend = 'bokeh')\n",
    "\n",
    "    except:\n",
    "        error_list.append((file,i))\n",
    "        \n",
    "    count+=1\n",
    "    print(count)\n",
    "    \n",
    "error_list"
   ]
  },
  {
   "cell_type": "markdown",
   "metadata": {},
   "source": [
    "### Class_1 record generation"
   ]
  },
  {
   "cell_type": "code",
   "execution_count": null,
   "metadata": {
    "ExecuteTime": {
     "end_time": "2019-04-19T21:09:04.501158Z",
     "start_time": "2019-04-19T20:15:20.819684Z"
    },
    "scrolled": true
   },
   "outputs": [],
   "source": [
    "error_list = []\n",
    "count = 0\n",
    "for file in class_1_files:\n",
    "    file_name = str(file).split('/')[-1]\n",
    "    os.makedirs(f\"../data/image_data/records/class_1/{file_name}\",exist_ok=True)\n",
    "    \n",
    "    label = 1\n",
    "    \n",
    "    #save images\n",
    "    try:\n",
    "        graphs = divide_signal_c1(file)\n",
    "        for i,graph in enumerate(graphs):\n",
    "            graph_name = f'../data/image_data/records/class_1/{file_name}/{file_name}_label_{label}_div_{i}.png'\n",
    "            hv.save(graph,graph_name,backend = 'bokeh')\n",
    "\n",
    "    except:\n",
    "        error_list.append((file,i))\n",
    "        \n",
    "    count+=1\n",
    "    print(count)\n",
    "\n",
    "error_list"
   ]
  },
  {
   "cell_type": "markdown",
   "metadata": {},
   "source": [
    "### Augment and separate according to label"
   ]
  },
  {
   "cell_type": "code",
   "execution_count": null,
   "metadata": {
    "ExecuteTime": {
     "end_time": "2019-04-19T21:09:04.512911Z",
     "start_time": "2019-04-19T21:09:04.504820Z"
    }
   },
   "outputs": [],
   "source": [
    "int(508*0.2),int(44*0.2),"
   ]
  },
  {
   "cell_type": "code",
   "execution_count": null,
   "metadata": {
    "ExecuteTime": {
     "end_time": "2019-04-19T21:09:04.522461Z",
     "start_time": "2019-04-19T21:09:04.519081Z"
    }
   },
   "outputs": [],
   "source": [
    "class_0_train_ids = sorted(class_0_ids[:-100])\n",
    "class_0_test_ids = sorted(class_0_ids[-100:])\n",
    "\n",
    "class_1_train_ids = sorted(class_1_ids[:-8])\n",
    "class_1_test_ids = sorted(class_1_ids[-8:])"
   ]
  },
  {
   "cell_type": "code",
   "execution_count": null,
   "metadata": {
    "ExecuteTime": {
     "end_time": "2019-04-19T21:09:04.528356Z",
     "start_time": "2019-04-19T21:09:04.524871Z"
    }
   },
   "outputs": [],
   "source": [
    "len(class_0_train_ids),len(class_0_test_ids),len(class_1_train_ids),len(class_1_test_ids),"
   ]
  },
  {
   "cell_type": "markdown",
   "metadata": {},
   "source": [
    "#### Class0"
   ]
  },
  {
   "cell_type": "code",
   "execution_count": null,
   "metadata": {
    "ExecuteTime": {
     "end_time": "2019-04-19T21:09:04.533088Z",
     "start_time": "2019-04-19T21:09:04.530924Z"
    }
   },
   "outputs": [],
   "source": [
    "record_path = Path('../data/image_data/records/class_0')"
   ]
  },
  {
   "cell_type": "markdown",
   "metadata": {},
   "source": [
    "##### Class_0 Train Augment"
   ]
  },
  {
   "cell_type": "code",
   "execution_count": null,
   "metadata": {
    "ExecuteTime": {
     "end_time": "2019-04-19T21:10:26.012683Z",
     "start_time": "2019-04-19T21:09:04.535395Z"
    }
   },
   "outputs": [],
   "source": [
    "image_data = Path('../data/image_data/data/train/')\n",
    "\n",
    "for rec_id in class_0_train_ids:\n",
    "    im_files = os.listdir(record_path/rec_id)\n",
    "    for i, im_file in enumerate(im_files):\n",
    "        label = 0\n",
    "        save_path = Path(image_data/f'class_{label}')\n",
    "        div = im_file.split('_')[-1].split('.')[0]\n",
    "        img = Image.open(record_path/rec_id/im_file).convert(\"L\") \n",
    "        save_augmentations(img,save_path,rec_id,label,div)"
   ]
  },
  {
   "cell_type": "markdown",
   "metadata": {},
   "source": [
    "##### Class_0 Test Augment"
   ]
  },
  {
   "cell_type": "code",
   "execution_count": null,
   "metadata": {
    "ExecuteTime": {
     "end_time": "2019-04-19T21:10:46.796582Z",
     "start_time": "2019-04-19T21:10:26.015365Z"
    }
   },
   "outputs": [],
   "source": [
    "image_data = Path('../data/image_data/data/test/')\n",
    "\n",
    "for rec_id in class_0_test_ids:\n",
    "    im_files = os.listdir(record_path/rec_id)\n",
    "    for i, im_file in enumerate(im_files):\n",
    "        label = 0\n",
    "        save_path = Path(image_data/f'class_{label}')\n",
    "        div = im_file.split('_')[-1].split('.')[0]\n",
    "        img = Image.open(record_path/rec_id/im_file).convert(\"L\") \n",
    "        save_augmentations(img,save_path,rec_id,label,div)"
   ]
  },
  {
   "cell_type": "markdown",
   "metadata": {},
   "source": [
    "#### Class1"
   ]
  },
  {
   "cell_type": "code",
   "execution_count": null,
   "metadata": {
    "ExecuteTime": {
     "end_time": "2019-04-19T21:10:46.802652Z",
     "start_time": "2019-04-19T21:10:46.799674Z"
    }
   },
   "outputs": [],
   "source": [
    "record_path = Path('../data/image_data/records/class_1')"
   ]
  },
  {
   "cell_type": "markdown",
   "metadata": {},
   "source": [
    "##### Class_1 Train Augment"
   ]
  },
  {
   "cell_type": "code",
   "execution_count": null,
   "metadata": {
    "ExecuteTime": {
     "end_time": "2019-04-19T21:11:20.590307Z",
     "start_time": "2019-04-19T21:10:46.807078Z"
    }
   },
   "outputs": [],
   "source": [
    "image_data = Path('../data/image_data/data/train/')\n",
    "\n",
    "for rec_id in class_1_train_ids:\n",
    "    im_files = os.listdir(record_path/rec_id)\n",
    "    for i, im_file in enumerate(im_files):\n",
    "        label = 1\n",
    "        save_path = Path(image_data/f'class_{label}')\n",
    "        div = im_file.split('_')[-1].split('.')[0]\n",
    "        img = Image.open(record_path/rec_id/im_file).convert(\"L\") \n",
    "        save_augmentations(img,save_path,rec_id,label,div)"
   ]
  },
  {
   "cell_type": "markdown",
   "metadata": {},
   "source": [
    "##### Class_1 Test Augment"
   ]
  },
  {
   "cell_type": "code",
   "execution_count": null,
   "metadata": {
    "ExecuteTime": {
     "end_time": "2019-04-19T21:11:27.641064Z",
     "start_time": "2019-04-19T21:11:20.594562Z"
    }
   },
   "outputs": [],
   "source": [
    "image_data = Path('../data/image_data/data/test/')\n",
    "\n",
    "for rec_id in class_1_test_ids:\n",
    "    im_files = os.listdir(record_path/rec_id)\n",
    "    for i, im_file in enumerate(im_files):\n",
    "        label = 1\n",
    "        save_path = Path(image_data/f'class_{label}')\n",
    "        div = im_file.split('_')[-1].split('.')[0]\n",
    "        img = Image.open(record_path/rec_id/im_file).convert(\"L\") \n",
    "        save_augmentations(img,save_path,rec_id,label,div)"
   ]
  },
  {
   "cell_type": "code",
   "execution_count": null,
   "metadata": {
    "ExecuteTime": {
     "end_time": "2019-04-20T04:36:40.027192Z",
     "start_time": "2019-04-20T04:35:44.843248Z"
    }
   },
   "outputs": [],
   "source": [
    "image_data = Path('../data/image_data/data/train/class_1/')\n",
    "for f in os.listdir(image_data):\n",
    "    img = Image.open(image_data/f)\n",
    "    name1 = f.split('.')[0]+'a'+'.png'\n",
    "    name2 = f.split('.')[0]+'b'+'.png'\n",
    "    img.save(image_data/name1)\n",
    "    img.save(image_data/name2)"
   ]
  },
  {
   "cell_type": "code",
   "execution_count": null,
   "metadata": {
    "ExecuteTime": {
     "end_time": "2019-04-20T04:45:03.442212Z",
     "start_time": "2019-04-20T04:44:52.703110Z"
    }
   },
   "outputs": [],
   "source": [
    "image_data = Path('../data/image_data/data/test/class_1/')\n",
    "for f in os.listdir(image_data):\n",
    "    img = Image.open(image_data/f)\n",
    "    name1 = f.split('.')[0]+'a'+'.png'\n",
    "    name2 = f.split('.')[0]+'b'+'.png'\n",
    "    img.save(image_data/name1)\n",
    "    img.save(image_data/name2)"
   ]
  },
  {
   "cell_type": "markdown",
   "metadata": {},
   "source": [
    "### Delete files from class_1"
   ]
  },
  {
   "cell_type": "code",
   "execution_count": null,
   "metadata": {
    "ExecuteTime": {
     "end_time": "2019-04-20T06:15:59.140903Z",
     "start_time": "2019-04-20T06:15:59.069420Z"
    }
   },
   "outputs": [],
   "source": [
    "image_data = Path('../data/image_data/data/train/class_1/')\n",
    "image_files = os.listdir(image_data)\n",
    "a_files = [i for i in image_files if i.split('.')[-2][-1]=='b']"
   ]
  },
  {
   "cell_type": "code",
   "execution_count": null,
   "metadata": {
    "ExecuteTime": {
     "end_time": "2019-04-20T06:16:00.284529Z",
     "start_time": "2019-04-20T06:16:00.249359Z"
    }
   },
   "outputs": [],
   "source": [
    "random.Random(4).shuffle(a_files),len(a_files)"
   ]
  },
  {
   "cell_type": "code",
   "execution_count": null,
   "metadata": {
    "ExecuteTime": {
     "end_time": "2019-04-20T06:16:02.227870Z",
     "start_time": "2019-04-20T06:16:02.223748Z"
    }
   },
   "outputs": [],
   "source": [
    "a_files[0] "
   ]
  },
  {
   "cell_type": "code",
   "execution_count": null,
   "metadata": {
    "ExecuteTime": {
     "end_time": "2019-04-20T06:16:07.606064Z",
     "start_time": "2019-04-20T06:16:07.588422Z"
    }
   },
   "outputs": [],
   "source": [
    "for f in a_files[:200]:\n",
    "    os.remove(image_data/f)"
   ]
  },
  {
   "cell_type": "markdown",
   "metadata": {},
   "source": [
    "### Delete files from class_0"
   ]
  },
  {
   "cell_type": "code",
   "execution_count": null,
   "metadata": {
    "ExecuteTime": {
     "end_time": "2019-04-20T05:26:59.442125Z",
     "start_time": "2019-04-20T05:26:59.328681Z"
    }
   },
   "outputs": [],
   "source": [
    "image_data = Path('../data/image_data/data/train/class_0/')\n",
    "image_files = os.listdir(image_data)\n",
    "random.Random(4).shuffle(image_files),len(image_files)"
   ]
  },
  {
   "cell_type": "code",
   "execution_count": null,
   "metadata": {
    "ExecuteTime": {
     "end_time": "2019-04-20T05:27:33.448383Z",
     "start_time": "2019-04-20T05:27:33.427218Z"
    }
   },
   "outputs": [],
   "source": [
    "for f in image_files[:384]:\n",
    "    os.remove(image_data/f)"
   ]
  },
  {
   "cell_type": "code",
   "execution_count": null,
   "metadata": {
    "ExecuteTime": {
     "end_time": "2019-04-20T05:28:51.041034Z",
     "start_time": "2019-04-20T05:28:50.995721Z"
    }
   },
   "outputs": [],
   "source": [
    "len(os.listdir(Path('../data/image_data/data/train/class_0/')))"
   ]
  },
  {
   "cell_type": "code",
   "execution_count": null,
   "metadata": {
    "ExecuteTime": {
     "end_time": "2019-04-20T05:28:51.530122Z",
     "start_time": "2019-04-20T05:28:51.478616Z"
    }
   },
   "outputs": [],
   "source": [
    "len(os.listdir(Path('../data/image_data/data/train/class_1/')))"
   ]
  },
  {
   "cell_type": "code",
   "execution_count": null,
   "metadata": {
    "ExecuteTime": {
     "end_time": "2019-04-20T05:29:04.053003Z",
     "start_time": "2019-04-20T05:29:04.038272Z"
    }
   },
   "outputs": [],
   "source": [
    "len(os.listdir(Path('../data/image_data/data/test/class_0/')))"
   ]
  },
  {
   "cell_type": "code",
   "execution_count": null,
   "metadata": {
    "ExecuteTime": {
     "end_time": "2019-04-20T05:29:13.707511Z",
     "start_time": "2019-04-20T05:29:13.690547Z"
    }
   },
   "outputs": [],
   "source": [
    "len(os.listdir(Path('../data/image_data/data/test/class_1/')))"
   ]
  },
  {
   "cell_type": "code",
   "execution_count": null,
   "metadata": {},
   "outputs": [],
   "source": []
  }
 ],
 "metadata": {
  "kernelspec": {
   "display_name": "Python 3",
   "language": "python",
   "name": "python3"
  },
  "language_info": {
   "codemirror_mode": {
    "name": "ipython",
    "version": 3
   },
   "file_extension": ".py",
   "mimetype": "text/x-python",
   "name": "python",
   "nbconvert_exporter": "python",
   "pygments_lexer": "ipython3",
   "version": "3.7.2"
  }
 },
 "nbformat": 4,
 "nbformat_minor": 2
}
