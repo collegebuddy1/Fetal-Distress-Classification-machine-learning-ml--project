{
 "cells": [
  {
   "cell_type": "code",
   "execution_count": null,
   "metadata": {
    "ExecuteTime": {
     "end_time": "2019-04-20T10:37:49.653504Z",
     "start_time": "2019-04-20T10:37:49.640423Z"
    }
   },
   "outputs": [],
   "source": [
    "import numpy as np\n",
    "import pandas as pd\n",
    "import keras\n",
    "from keras.layers import Activation\n",
    "from keras.preprocessing.image import ImageDataGenerator\n",
    "from keras.preprocessing import image\n",
    "from keras.layers import Dropout, Flatten, Dense\n",
    "from keras.layers import Input, Add, Dense, Activation, ZeroPadding2D, BatchNormalization, Flatten, Conv2D, AveragePooling2D, MaxPooling2D, GlobalMaxPooling2D\n",
    "from keras.applications import ResNet50\n",
    "from keras.models import Model, Sequential\n",
    "from keras.layers import Dense, GlobalAveragePooling2D,Conv2D,BatchNormalization, MaxPool2D,Convolution2D,MaxPooling2D\n",
    "from keras import backend as K\n",
    "from keras.layers.wrappers import TimeDistributed\n",
    "from keras.applications.imagenet_utils import preprocess_input, decode_predictions\n",
    "from pathlib import Path\n",
    "from keras import metrics\n",
    "from keras import optimizers\n",
    "import keras.backend as K\n",
    "import matplotlib.pyplot as plt\n",
    "from keras.callbacks import Callback\n",
    "from keras import regularizers\n",
    "from keras.initializers import glorot_uniform\n",
    "%matplotlib inline"
   ]
  },
  {
   "cell_type": "code",
   "execution_count": null,
   "metadata": {
    "ExecuteTime": {
     "end_time": "2019-04-20T10:37:49.906144Z",
     "start_time": "2019-04-20T10:37:49.899787Z"
    }
   },
   "outputs": [],
   "source": [
    "PATH = Path(\"../data/image_data/data/\")\n",
    "sz=(150,250)\n",
    "IMAGE_SIZE  = (150,250,1)\n",
    "batch_size = 32"
   ]
  },
  {
   "cell_type": "code",
   "execution_count": null,
   "metadata": {
    "ExecuteTime": {
     "end_time": "2019-04-20T10:37:50.188820Z",
     "start_time": "2019-04-20T10:37:50.182196Z"
    }
   },
   "outputs": [],
   "source": [
    "train_data_dir = str(PATH) +\"/train\"\n",
    "validation_data_dir = str(PATH) +\"/test\"\n",
    "test_data_dir = str(PATH) +\"/test\""
   ]
  },
  {
   "cell_type": "code",
   "execution_count": null,
   "metadata": {
    "ExecuteTime": {
     "end_time": "2019-04-20T10:37:58.653244Z",
     "start_time": "2019-04-20T10:37:50.449856Z"
    },
    "code_folding": [],
    "scrolled": true
   },
   "outputs": [],
   "source": [
    "train_datagen = ImageDataGenerator()\n",
    "val_datagen = ImageDataGenerator()\n",
    "test_datagen = ImageDataGenerator()\n",
    "\n",
    "train_generator = train_datagen.flow_from_directory(train_data_dir,\n",
    "                                                    target_size=sz,\n",
    "                                                    batch_size=batch_size, \n",
    "                                                    class_mode='categorical',\n",
    "                                                    color_mode = 'grayscale',\n",
    "                                                    seed=26,\n",
    "                                                    )\n",
    "\n",
    "validation_generator = val_datagen.flow_from_directory(validation_data_dir,\n",
    "    target_size=sz,\n",
    "    batch_size=batch_size, \n",
    "    class_mode='categorical',\n",
    "    color_mode = 'grayscale',\n",
    "    shuffle = False\n",
    "    )"
   ]
  },
  {
   "cell_type": "code",
   "execution_count": null,
   "metadata": {
    "ExecuteTime": {
     "end_time": "2019-04-20T10:38:00.385071Z",
     "start_time": "2019-04-20T10:37:58.657531Z"
    }
   },
   "outputs": [],
   "source": [
    "predict_generator = test_datagen.flow_from_directory(validation_data_dir,\n",
    "        target_size=sz,\n",
    "    batch_size=batch_size, \n",
    "    class_mode='categorical',\n",
    "    color_mode = 'grayscale',\n",
    "    shuffle = False)  # keep data in same order as labels\n",
    "\n",
    "predict_generator.reset()"
   ]
  },
  {
   "cell_type": "markdown",
   "metadata": {},
   "source": [
    "### Model"
   ]
  },
  {
   "cell_type": "code",
   "execution_count": null,
   "metadata": {
    "ExecuteTime": {
     "end_time": "2019-04-20T10:38:00.935547Z",
     "start_time": "2019-04-20T10:38:00.389937Z"
    }
   },
   "outputs": [],
   "source": [
    "model = Sequential()\n",
    "\n",
    "#########1\n",
    "\n",
    "model.add(Conv2D(64, (11,11),strides = (2,2), input_shape = IMAGE_SIZE ,kernel_initializer='glorot_uniform',kernel_regularizer=regularizers.l2(0.01),))\n",
    "\n",
    "model.add(keras.layers.ELU())\n",
    "\n",
    "model.add(BatchNormalization())\n",
    "\n",
    "#########2\n",
    "\n",
    "model.add(Conv2D(128, (9,9),strides = (1,1),kernel_initializer='glorot_uniform',kernel_regularizer=regularizers.l2(0.01),))\n",
    "\n",
    "model.add(keras.layers.ELU())\n",
    "\n",
    "model.add(BatchNormalization())\n",
    "\n",
    "model.add(MaxPool2D(pool_size=(2,2), strides= (2,2)))\n",
    "\n",
    "#########3\n",
    "\n",
    "model.add(Conv2D(128, (7,7),strides = (1,1),kernel_initializer='glorot_uniform',kernel_regularizer=regularizers.l2(0.01),))\n",
    "\n",
    "model.add(keras.layers.ELU())\n",
    "\n",
    "model.add(BatchNormalization())\n",
    "\n",
    "#########4\n",
    "\n",
    "model.add(Conv2D(256, (3,3),strides = (2,2),kernel_initializer='glorot_uniform',kernel_regularizer=regularizers.l2(0.01),))\n",
    "\n",
    "model.add(keras.layers.ELU())\n",
    "\n",
    "model.add(BatchNormalization())\n",
    "\n",
    "# #########6\n",
    "\n",
    "\n",
    "model.add(Conv2D(512, (2,2),strides = (2,2),kernel_initializer='glorot_uniform',kernel_regularizer=regularizers.l2(0.01),))\n",
    "\n",
    "model.add(keras.layers.ELU())\n",
    "\n",
    "model.add(BatchNormalization())\n",
    "\n",
    "\n",
    "#########7\n",
    "\n",
    "model.add(Flatten())\n",
    "model.add(Dropout(0.7))\n",
    "\n",
    "model.add(Dense(32))\n",
    "\n",
    "model.add(keras.layers.ELU())\n",
    "\n",
    "model.add(BatchNormalization())\n",
    "model.add(Dense(16))\n",
    "\n",
    "model.add(Dropout(0.5))\n",
    "\n",
    "model.add(Dense(2, activation='softmax'))\n",
    "\n",
    "\n",
    "model.compile(loss='categorical_crossentropy', \n",
    "              optimizer=optimizers.Adam(lr=0.001,decay= 1e-6), \n",
    "              metrics=['accuracy'])\n",
    "\n",
    "model.summary()"
   ]
  },
  {
   "cell_type": "markdown",
   "metadata": {},
   "source": [
    "### Try1"
   ]
  },
  {
   "cell_type": "code",
   "execution_count": null,
   "metadata": {
    "ExecuteTime": {
     "end_time": "2019-04-20T09:30:42.208927Z",
     "start_time": "2019-04-20T09:16:21.619423Z"
    }
   },
   "outputs": [],
   "source": [
    "model.compile(loss='binary_crossentropy', \n",
    "              optimizer=keras.optimizers.SGD(lr=0.01,momentum=0.0,decay=0.0,nesterov=False,),\n",
    "              metrics=['accuracy','mae'])\n",
    "model.fit_generator(train_generator, train_generator.n // batch_size, epochs=1, workers=8,\n",
    "validation_data=validation_generator, validation_steps=validation_generator.n // batch_size)"
   ]
  },
  {
   "cell_type": "code",
   "execution_count": null,
   "metadata": {
    "ExecuteTime": {
     "end_time": "2019-04-20T09:59:46.676297Z",
     "start_time": "2019-04-20T09:59:46.015377Z"
    }
   },
   "outputs": [],
   "source": [
    "modelpath = Path(\"../data/image_data/models/try1_1.h5\")\n",
    "# model.save_weights(modelpath)\n",
    "model.load_weights(modelpath)"
   ]
  },
  {
   "cell_type": "code",
   "execution_count": null,
   "metadata": {
    "ExecuteTime": {
     "end_time": "2019-04-20T10:14:00.941857Z",
     "start_time": "2019-04-20T09:59:58.904393Z"
    }
   },
   "outputs": [],
   "source": [
    "model.compile(loss='binary_crossentropy', \n",
    "              optimizer=keras.optimizers.SGD(lr=0.0005,momentum=0.0,decay=0.0,nesterov=False,),\n",
    "              metrics=['accuracy','mae'])\n",
    "model.fit_generator(train_generator, train_generator.n // batch_size, epochs=1, workers=8,\n",
    "validation_data=validation_generator, validation_steps=validation_generator.n // batch_size)"
   ]
  },
  {
   "cell_type": "code",
   "execution_count": null,
   "metadata": {
    "ExecuteTime": {
     "end_time": "2019-04-20T10:17:07.254156Z",
     "start_time": "2019-04-20T10:17:06.320507Z"
    }
   },
   "outputs": [],
   "source": [
    "modelpath = Path(\"../data/image_data/models/try1_2.h5\")\n",
    "model.save_weights(modelpath)\n",
    "# model.load_weights(modelpath)"
   ]
  },
  {
   "cell_type": "code",
   "execution_count": null,
   "metadata": {
    "ExecuteTime": {
     "end_time": "2019-04-20T10:30:27.741100Z",
     "start_time": "2019-04-20T10:17:33.414218Z"
    }
   },
   "outputs": [],
   "source": [
    "model.compile(loss='binary_crossentropy', \n",
    "              optimizer=keras.optimizers.SGD(lr=0.0001,momentum=0.0,decay=0.0,nesterov=False,),\n",
    "              metrics=['accuracy','mae'])\n",
    "model.fit_generator(train_generator, train_generator.n // batch_size, epochs=1, workers=8,\n",
    "validation_data=validation_generator, validation_steps=validation_generator.n // batch_size)"
   ]
  },
  {
   "cell_type": "code",
   "execution_count": null,
   "metadata": {
    "ExecuteTime": {
     "end_time": "2019-04-20T10:35:42.814580Z",
     "start_time": "2019-04-20T10:35:42.746842Z"
    }
   },
   "outputs": [],
   "source": [
    "modelpath = Path(\"../data/image_data/models/try1_3.h5\")\n",
    "model.save_weights(modelpath)\n",
    "# model.load_weights(modelpath)"
   ]
  },
  {
   "cell_type": "markdown",
   "metadata": {},
   "source": [
    "### Try2"
   ]
  },
  {
   "cell_type": "code",
   "execution_count": null,
   "metadata": {
    "ExecuteTime": {
     "end_time": "2019-04-20T10:50:49.909295Z",
     "start_time": "2019-04-20T10:38:00.937127Z"
    }
   },
   "outputs": [],
   "source": [
    "model.compile(loss='binary_crossentropy', \n",
    "              optimizer=keras.optimizers.SGD(lr=0.005,momentum=0.0,decay=0.0,nesterov=False,),\n",
    "              metrics=['accuracy','mae'])\n",
    "model.fit_generator(train_generator, train_generator.n // batch_size, epochs=1, workers=8,\n",
    "validation_data=validation_generator, validation_steps=validation_generator.n // batch_size)"
   ]
  },
  {
   "cell_type": "code",
   "execution_count": null,
   "metadata": {
    "ExecuteTime": {
     "end_time": "2019-04-20T11:06:46.326864Z",
     "start_time": "2019-04-20T11:06:45.963463Z"
    }
   },
   "outputs": [],
   "source": [
    "modelpath = Path(\"../data/image_data/models/try2_1.h5\")\n",
    "model.save_weights(modelpath)\n",
    "# model.load_weights(modelpath)"
   ]
  },
  {
   "cell_type": "code",
   "execution_count": null,
   "metadata": {
    "ExecuteTime": {
     "end_time": "2019-04-20T11:19:37.503685Z",
     "start_time": "2019-04-20T11:06:54.415549Z"
    }
   },
   "outputs": [],
   "source": [
    "model.compile(loss='binary_crossentropy', \n",
    "              optimizer=keras.optimizers.SGD(lr=0.0001,momentum=0.0,decay=0.0,nesterov=False,),\n",
    "              metrics=['accuracy','mae'])\n",
    "model.fit_generator(train_generator, train_generator.n // batch_size, epochs=1, workers=8,\n",
    "validation_data=validation_generator, validation_steps=validation_generator.n // batch_size)"
   ]
  },
  {
   "cell_type": "code",
   "execution_count": null,
   "metadata": {
    "ExecuteTime": {
     "end_time": "2019-04-20T11:45:20.517541Z",
     "start_time": "2019-04-20T11:45:20.262023Z"
    }
   },
   "outputs": [],
   "source": [
    "modelpath = Path(\"../data/image_data/models/try2_2.h5\")\n",
    "# model.save_weights(modelpath)\n",
    "model.load_weights(modelpath)"
   ]
  },
  {
   "cell_type": "code",
   "execution_count": null,
   "metadata": {
    "ExecuteTime": {
     "end_time": "2019-04-20T11:58:38.701861Z",
     "start_time": "2019-04-20T11:45:22.881899Z"
    },
    "code_folding": []
   },
   "outputs": [],
   "source": [
    "model.compile(loss='binary_crossentropy', \n",
    "              optimizer=keras.optimizers.SGD(lr=0.00005,momentum=0.0,decay=0.0,nesterov=False,),\n",
    "              metrics=['accuracy','mae'])\n",
    "model.fit_generator(train_generator, train_generator.n // batch_size, epochs=1, workers=8,\n",
    "validation_data=validation_generator, validation_steps=validation_generator.n // batch_size)"
   ]
  },
  {
   "cell_type": "code",
   "execution_count": null,
   "metadata": {
    "ExecuteTime": {
     "end_time": "2019-04-20T12:19:58.091931Z",
     "start_time": "2019-04-20T12:06:53.413698Z"
    }
   },
   "outputs": [],
   "source": [
    "model.compile(loss='binary_crossentropy', \n",
    "              optimizer=keras.optimizers.SGD(lr=0.00004,momentum=0.0,decay=0.0,nesterov=False,),\n",
    "              metrics=['accuracy','mae'])\n",
    "model.fit_generator(train_generator, train_generator.n // batch_size, epochs=1, workers=8,\n",
    "validation_data=validation_generator, validation_steps=validation_generator.n // batch_size)"
   ]
  },
  {
   "cell_type": "code",
   "execution_count": null,
   "metadata": {},
   "outputs": [],
   "source": []
  },
  {
   "cell_type": "code",
   "execution_count": null,
   "metadata": {},
   "outputs": [],
   "source": []
  },
  {
   "cell_type": "markdown",
   "metadata": {},
   "source": [
    "### Prediction"
   ]
  },
  {
   "cell_type": "code",
   "execution_count": null,
   "metadata": {
    "ExecuteTime": {
     "end_time": "2019-04-20T11:02:40.113122Z",
     "start_time": "2019-04-20T11:02:40.103753Z"
    }
   },
   "outputs": [],
   "source": [
    "labels = pd.read_csv('../data/label/labels_with_class.csv')"
   ]
  },
  {
   "cell_type": "code",
   "execution_count": null,
   "metadata": {
    "ExecuteTime": {
     "end_time": "2019-04-20T11:02:40.971766Z",
     "start_time": "2019-04-20T11:02:40.967123Z"
    },
    "code_folding": [
     0
    ]
   },
   "outputs": [],
   "source": [
    "# def show(file):\n",
    "#     d = r[r.File_id == str(file)]\n",
    "#     d = d.Predictions.values\n",
    "    \n",
    "#     c1,c2 = 0,0\n",
    "    \n",
    "#     for i in d:\n",
    "#         if i == 0:\n",
    "#             c1+=1\n",
    "#         elif i==1:\n",
    "#             c2+=1\n",
    "\n",
    "#     t_l = len(d)\n",
    "    \n",
    "#     print(file,[\"%.3f\"%x  for x in np.asarray([c1/t_l,c2/t_l])])\n",
    "\n",
    "def find_max(d):\n",
    "    \n",
    "    c0,c1,= 0,0\n",
    "    \n",
    "    for i in d.values:\n",
    "        if i == 0:\n",
    "            c0+=1\n",
    "        elif i==1:\n",
    "            c1+=1\n",
    "            \n",
    "    t_l = len(d.values)\n",
    "    arr = np.asarray([c0/t_l,c1/t_l])\n",
    "#     if arr[0]>55: return 0,arr\n",
    "#     else: return 1,arr\n",
    "    return arr.argmax(),arr"
   ]
  },
  {
   "cell_type": "code",
   "execution_count": null,
   "metadata": {
    "ExecuteTime": {
     "end_time": "2019-04-20T12:22:28.495823Z",
     "start_time": "2019-04-20T12:21:44.192713Z"
    }
   },
   "outputs": [],
   "source": [
    "pred=model.predict_generator(predict_generator,verbose=1,)                   \n",
    "predicted_class_indices=np.argmax(pred,axis=1)\n",
    "\n",
    "filenames=predict_generator.filenames\n",
    "results=pd.DataFrame({\"Filename\":filenames,\n",
    "                      \"Predictions\":list(predicted_class_indices)})"
   ]
  },
  {
   "cell_type": "code",
   "execution_count": null,
   "metadata": {
    "ExecuteTime": {
     "end_time": "2019-04-20T12:22:28.565462Z",
     "start_time": "2019-04-20T12:22:28.501660Z"
    }
   },
   "outputs": [],
   "source": [
    "r = results.copy()\n",
    "r['File_id'] = r.Filename.apply(lambda x: str(x).split('/')[1].split('_')[0])\n",
    "r.head()"
   ]
  },
  {
   "cell_type": "code",
   "execution_count": null,
   "metadata": {
    "ExecuteTime": {
     "end_time": "2019-04-20T12:22:29.115266Z",
     "start_time": "2019-04-20T12:22:28.567198Z"
    }
   },
   "outputs": [],
   "source": [
    "pred_l = [] \n",
    "for i in r['File_id'].unique():\n",
    "    df = r[r.File_id == i]\n",
    "    pred = find_max(df.Predictions)\n",
    "    pred_l.append((i,pred[1][0],pred[0]))\n",
    "    \n",
    "final_pred = pd.DataFrame(pred_l,columns=['File_id','Prob_0','Prediction'])\n",
    "# final_pred.head()"
   ]
  },
  {
   "cell_type": "code",
   "execution_count": null,
   "metadata": {
    "ExecuteTime": {
     "end_time": "2019-04-20T12:22:29.227727Z",
     "start_time": "2019-04-20T12:22:29.117584Z"
    }
   },
   "outputs": [],
   "source": [
    "actual = []\n",
    "for f in final_pred.File_id.values:\n",
    "    actual.append((f,int(labels[labels.rec_id == int(f)]['class'].values)))\n",
    "    \n",
    "actual = pd.DataFrame(actual,columns=['File_id','Actual'])\n",
    "\n",
    "table = pd.merge(final_pred,actual,on = 'File_id')\n",
    "\n",
    "len(table[table.Prediction == table.Actual])/len(table)\n",
    "table.head()"
   ]
  },
  {
   "cell_type": "code",
   "execution_count": null,
   "metadata": {
    "ExecuteTime": {
     "end_time": "2019-04-20T12:22:29.238634Z",
     "start_time": "2019-04-20T12:22:29.229437Z"
    }
   },
   "outputs": [],
   "source": [
    "print(len(table[table.Prediction ==0]),len(table[table.Actual ==0]))\n",
    "print(len(table[table.Prediction ==1]),len(table[table.Actual ==1]))"
   ]
  },
  {
   "cell_type": "code",
   "execution_count": null,
   "metadata": {
    "ExecuteTime": {
     "end_time": "2019-04-20T12:22:29.252014Z",
     "start_time": "2019-04-20T12:22:29.240075Z"
    }
   },
   "outputs": [],
   "source": [
    "t = table[table.Actual == 1]\n",
    "t"
   ]
  },
  {
   "cell_type": "code",
   "execution_count": null,
   "metadata": {
    "ExecuteTime": {
     "end_time": "2019-04-20T12:22:29.265600Z",
     "start_time": "2019-04-20T12:22:29.253355Z"
    }
   },
   "outputs": [],
   "source": [
    "t = table[table.Actual == 1]\n",
    "print(len(t))\n",
    "print(len(t[t.Prediction==1]))\n",
    "t[t.Prediction==1]"
   ]
  },
  {
   "cell_type": "code",
   "execution_count": null,
   "metadata": {
    "ExecuteTime": {
     "end_time": "2019-04-20T12:22:29.292323Z",
     "start_time": "2019-04-20T12:22:29.268850Z"
    }
   },
   "outputs": [],
   "source": [
    "t = table[table.Actual == 0]\n",
    "print(len(t))\n",
    "print(len(t[t.Prediction==0]))\n",
    "t[t.Prediction==0]"
   ]
  }
 ],
 "metadata": {
  "kernelspec": {
   "display_name": "Python 3",
   "language": "python",
   "name": "python3"
  },
  "language_info": {
   "codemirror_mode": {
    "name": "ipython",
    "version": 3
   },
   "file_extension": ".py",
   "mimetype": "text/x-python",
   "name": "python",
   "nbconvert_exporter": "python",
   "pygments_lexer": "ipython3",
   "version": "3.6.8"
  }
 },
 "nbformat": 4,
 "nbformat_minor": 2
}
