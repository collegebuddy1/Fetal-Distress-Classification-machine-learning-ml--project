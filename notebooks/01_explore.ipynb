{
 "cells": [
  {
   "cell_type": "code",
   "execution_count": null,
   "metadata": {
    "ExecuteTime": {
     "end_time": "2019-03-14T05:00:34.225375Z",
     "start_time": "2019-03-14T05:00:32.742863Z"
    }
   },
   "outputs": [],
   "source": [
    "import os\n",
    "import re\n",
    "from pathlib import Path\n",
    "import numpy as np\n",
    "import pandas as pd\n",
    "import holoviews as hv\n",
    "import hvplot.pandas\n",
    "from holoviews import opts,dim\n",
    "import matplotlib.pyplot as plt\n",
    "import cv2\n",
    "from IPython.display import display_png\n",
    "opts.defaults(opts.Curve(width=600, framewise=True))\n",
    "%matplotlib inline\n",
    "hv.extension('bokeh')"
   ]
  },
  {
   "cell_type": "markdown",
   "metadata": {},
   "source": [
    "### Data"
   ]
  },
  {
   "cell_type": "code",
   "execution_count": null,
   "metadata": {
    "ExecuteTime": {
     "end_time": "2019-03-14T05:00:35.335705Z",
     "start_time": "2019-03-14T05:00:35.331164Z"
    }
   },
   "outputs": [],
   "source": [
    "data_path = Path('../data')"
   ]
  },
  {
   "cell_type": "code",
   "execution_count": null,
   "metadata": {
    "ExecuteTime": {
     "end_time": "2019-03-14T05:00:35.714514Z",
     "start_time": "2019-03-14T05:00:35.688634Z"
    }
   },
   "outputs": [],
   "source": [
    "sig_files = [data_path/file for file in sorted(os.listdir(data_path)) if '.txt' in file]\n",
    "info_files = [data_path/file for file in sorted(os.listdir(data_path)) if '.hea' in file]\n",
    "file_names = [str(data_path/file)[:-4] for file in sorted(os.listdir(data_path)) if '.txt' in file]"
   ]
  },
  {
   "cell_type": "code",
   "execution_count": null,
   "metadata": {
    "ExecuteTime": {
     "end_time": "2019-03-14T05:00:36.004966Z",
     "start_time": "2019-03-14T05:00:35.996997Z"
    }
   },
   "outputs": [],
   "source": [
    "sig_files[0]"
   ]
  },
  {
   "cell_type": "code",
   "execution_count": null,
   "metadata": {
    "ExecuteTime": {
     "end_time": "2019-03-14T05:00:36.317608Z",
     "start_time": "2019-03-14T05:00:36.301920Z"
    }
   },
   "outputs": [],
   "source": [
    "label_df = pd.read_csv('../data/label/label_df.csv')"
   ]
  },
  {
   "cell_type": "code",
   "execution_count": null,
   "metadata": {
    "ExecuteTime": {
     "end_time": "2019-03-14T05:00:36.604742Z",
     "start_time": "2019-03-14T05:00:36.591246Z"
    }
   },
   "outputs": [],
   "source": [
    "label_df.head()"
   ]
  },
  {
   "cell_type": "code",
   "execution_count": null,
   "metadata": {
    "ExecuteTime": {
     "end_time": "2019-03-14T05:00:36.903195Z",
     "start_time": "2019-03-14T05:00:36.889842Z"
    }
   },
   "outputs": [],
   "source": [
    "rec_labels = label_df[label_df.rec_id==1001]\n",
    "rec_labels.values[0][1:]#[1]"
   ]
  },
  {
   "cell_type": "markdown",
   "metadata": {},
   "source": [
    "### Record"
   ]
  },
  {
   "cell_type": "code",
   "execution_count": null,
   "metadata": {
    "ExecuteTime": {
     "end_time": "2019-03-14T05:00:37.517191Z",
     "start_time": "2019-03-14T05:00:37.463548Z"
    },
    "code_folding": [
     17,
     20,
     35,
     47,
     51
    ]
   },
   "outputs": [],
   "source": [
    "class Record:\n",
    "    def __init__(self, location):\n",
    "        #'fhr' is unmodified data, 'fhr_pro' is zero-removed data\n",
    "        self.rec_id = int(str(location).split('/')[-1])\n",
    "        self.fhr,self.uc = self.read_signals(location) #fhr orignal,\n",
    "        self.info,self.freq = self.read_info(location)      \n",
    "        self.labels = self.get_labels()\n",
    "        self.pos2stage = int(self.info['Pos'])         #beg of stage 2\n",
    "        self.vline = hv.VLine(self.pos2stage).opts(color='black',line_dash = 'dotted')\n",
    "        self.pH = self.info['pH']\n",
    "        self.delType = self.info['Deliv']                   #Delivery Type\n",
    "        self.fhr_pro,self.pos2stage_pro = self.preprocess_fhr()          #fhr processed ,pos2stage processed\n",
    "        self.vline_pro = hv.VLine(self.pos2stage_pro).opts(color='green',line_dash = 'dotted')\n",
    "       \n",
    "    def __str__(self):\n",
    "        return str(self.rec_id)\n",
    "    \n",
    "    def __repr__(self):\n",
    "        return self.__str__()\n",
    "    \n",
    "    def read_signals(self,location):\n",
    "        fhr_l = []\n",
    "        uc_l = []\n",
    "        f = open(str(location)+'.txt') #open signal data file\n",
    "        for line in f.readlines():\n",
    "            line = line.split('\\t')\n",
    "            fhr_v = int(line[1]) #fhr_value\n",
    "            uc_v = int(line[2])  #uc_value\n",
    "            fhr_l.append(fhr_v)\n",
    "            uc_l.append(uc_v)\n",
    "        fhr = np.asarray(fhr_l)/100 #fhr:fhr array\n",
    "        uc = np.asarray(uc_l)/100 #uc:uc_array\n",
    "        f.close()\n",
    "        return fhr,uc\n",
    "    \n",
    "    def read_info(self,location):\n",
    "        info = dict()\n",
    "        f = open(str(location)+'.hea') #open info file\n",
    "        lines = [line for line in f.readlines()]\n",
    "        for line in lines[7:]:\n",
    "            if '#' in line:\n",
    "                if re.search(r'\\d+', line):\n",
    "                    info[re.search(r'\\w+', line).group()] = re.search(r\"[-+]?\\d*\\.\\d+|\\d+\", line).group()\n",
    "        f.close()\n",
    "        freq = int(lines[0].split(' ')[2]) #Frequency\n",
    "        return info,freq\n",
    "        \n",
    "    def get_info_df(self):\n",
    "        df = pd.DataFrame.from_dict(self.info,orient = 'index')\n",
    "        return df\n",
    "    \n",
    "    def get_labels(self):\n",
    "        rec_labels = label_df[label_df.rec_id==self.rec_id]\n",
    "        return rec_labels.values[0][1:]\n",
    "    \n",
    "    def preprocess_fhr(self):\n",
    "        signal = self.fhr.copy()\n",
    "        missing_count = 0\n",
    "        corr_sig = []   #corrected_signal\n",
    "        for i in signal:\n",
    "            if i!= 0:\n",
    "        #         print(i)\n",
    "                corr_sig.append(i)\n",
    "            else:\n",
    "                missing_count+=1\n",
    "\n",
    "        new_pos2stage = self.pos2stage - missing_count  #corrected pos2stage\n",
    "        \n",
    "        return np.asarray(corr_sig),new_pos2stage\n",
    "    \n",
    "    def plot_fhr(self,orignal = True):\n",
    "        if orignal:\n",
    "            fhr = self.fhr\n",
    "            vline = self.vline\n",
    "        else:\n",
    "            fhr = self.fhr_pro\n",
    "            vline = self.vline_pro\n",
    "        hline_1  = hv.HLine(160,).opts(color='red',line_dash = 'dotted',width = 1,)\n",
    "        hline_2  = hv.HLine(110,).opts(color='red',line_dash = 'dotted',width = 1)\n",
    "        fhr_plot = hv.Curve(fhr,'Time','FHR')*vline * hline_1 * hline_2\n",
    "        fhr_plot.opts(\n",
    "            opts.Curve( height=400, width=700,xaxis=None, line_width=1, tools=['hover'],line_alpha = 1))\n",
    "        return fhr_plot\n",
    "       \n",
    "    def plot_uc(self):\n",
    "        uc_plot = hv.Curve(self.uc,'Time','UC')*self.vline#*self.vline\n",
    "        uc_plot.opts(\n",
    "            opts.Curve( height=250, width=700,xaxis=None, line_width=1, tools=['hover'],color = 'orange'))\n",
    "        return uc_plot\n",
    "    \n",
    "    def plot_labels(self):\n",
    "        label_plot = hv.Bars(self.labels)\n",
    "        label_plot.opts(\n",
    "             opts.Bars(height = 250, width = 250,color = 'green'))\n",
    "        l_1 = hv.HLine(1).opts(color='blue',line_dash = 'dotted')\n",
    "        l_2 = hv.HLine(2).opts(color='blue',line_dash = 'dotted')\n",
    "        l_3 = hv.HLine(3).opts(color='blue',line_dash = 'dotted')\n",
    "        return label_plot * l_1 * l_2 * l_3"
   ]
  },
  {
   "cell_type": "code",
   "execution_count": null,
   "metadata": {
    "ExecuteTime": {
     "end_time": "2019-03-14T05:00:39.045924Z",
     "start_time": "2019-03-14T05:00:39.008427Z"
    }
   },
   "outputs": [],
   "source": [
    "r = Record(data_path/'1004')\n",
    "r"
   ]
  },
  {
   "cell_type": "code",
   "execution_count": null,
   "metadata": {
    "ExecuteTime": {
     "end_time": "2019-03-14T05:00:39.387188Z",
     "start_time": "2019-03-14T05:00:39.381348Z"
    }
   },
   "outputs": [],
   "source": [
    "r.uc"
   ]
  },
  {
   "cell_type": "code",
   "execution_count": null,
   "metadata": {
    "ExecuteTime": {
     "end_time": "2019-03-14T05:00:39.733391Z",
     "start_time": "2019-03-14T05:00:39.729173Z"
    }
   },
   "outputs": [],
   "source": [
    "# r.info\n",
    "# r.info['pH']"
   ]
  },
  {
   "cell_type": "code",
   "execution_count": null,
   "metadata": {
    "ExecuteTime": {
     "end_time": "2019-03-14T05:00:40.081332Z",
     "start_time": "2019-03-14T05:00:40.077165Z"
    }
   },
   "outputs": [],
   "source": [
    "df = r.get_info_df()\n",
    "# df.loc['CK']"
   ]
  },
  {
   "cell_type": "markdown",
   "metadata": {},
   "source": [
    "### Dynamic Plot  of Orignal Data"
   ]
  },
  {
   "cell_type": "code",
   "execution_count": null,
   "metadata": {
    "ExecuteTime": {
     "end_time": "2019-03-14T05:00:40.934809Z",
     "start_time": "2019-03-14T05:00:40.931910Z"
    }
   },
   "outputs": [],
   "source": [
    "def load_signals(location, **kwargs):\n",
    "    rec = Record(location)\n",
    "    fhr_plot = rec.plot_fhr()\n",
    "    uc_plot = rec.plot_uc()\n",
    "    label_plot = rec.plot_labels()\n",
    "\n",
    "    \n",
    "    layout = fhr_plot + uc_plot + label_plot\n",
    "    layout.cols(1)\n",
    "    return layout"
   ]
  },
  {
   "cell_type": "code",
   "execution_count": null,
   "metadata": {
    "ExecuteTime": {
     "end_time": "2019-03-14T05:00:42.704759Z",
     "start_time": "2019-03-14T05:00:42.307571Z"
    }
   },
   "outputs": [],
   "source": [
    "dmap = hv.DynamicMap(load_signals, kdims='FHR').redim.values(FHR=file_names)\n",
    "dmap"
   ]
  },
  {
   "cell_type": "markdown",
   "metadata": {},
   "source": [
    "110 to 160 is the range in which FHR usually lies."
   ]
  },
  {
   "cell_type": "markdown",
   "metadata": {},
   "source": [
    "### Moving Average"
   ]
  },
  {
   "cell_type": "code",
   "execution_count": null,
   "metadata": {
    "ExecuteTime": {
     "end_time": "2019-03-14T05:00:57.488670Z",
     "start_time": "2019-03-14T05:00:57.456552Z"
    }
   },
   "outputs": [],
   "source": [
    "r = Record(data_path/'1001')"
   ]
  },
  {
   "cell_type": "code",
   "execution_count": null,
   "metadata": {
    "ExecuteTime": {
     "end_time": "2019-03-14T05:00:57.914952Z",
     "start_time": "2019-03-14T05:00:57.906458Z"
    },
    "code_folding": []
   },
   "outputs": [],
   "source": [
    "def ma(x, period, type_ ='simple'): \n",
    "    x = np.asarray(x)\n",
    "    if type=='simple':\n",
    "        weights = np.ones(period)\n",
    "    else:\n",
    "        weights = np.exp(np.linspace(-1., 0., period)) #expontial MA\n",
    "\n",
    "    weights /= weights.sum()\n",
    "\n",
    "    a =  np.convolve(x, weights, mode='full')[:len(x)]\n",
    "    a[:period] = a[period]\n",
    "    return a"
   ]
  },
  {
   "cell_type": "code",
   "execution_count": null,
   "metadata": {
    "ExecuteTime": {
     "end_time": "2019-03-14T05:00:58.104889Z",
     "start_time": "2019-03-14T05:00:58.098870Z"
    }
   },
   "outputs": [],
   "source": [
    "period = 100\n",
    "val = ma(r.fhr, period,'S')"
   ]
  },
  {
   "cell_type": "code",
   "execution_count": null,
   "metadata": {
    "ExecuteTime": {
     "end_time": "2019-03-14T05:00:58.275096Z",
     "start_time": "2019-03-14T05:00:58.255230Z"
    }
   },
   "outputs": [],
   "source": [
    "fhr_plot = r.plot_fhr()"
   ]
  },
  {
   "cell_type": "code",
   "execution_count": null,
   "metadata": {
    "ExecuteTime": {
     "end_time": "2019-03-14T05:00:58.427307Z",
     "start_time": "2019-03-14T05:00:58.416726Z"
    }
   },
   "outputs": [],
   "source": [
    "ema_plot = hv.Curve(val,'FHR_ema').opts(color = 'orange')"
   ]
  },
  {
   "cell_type": "code",
   "execution_count": null,
   "metadata": {
    "ExecuteTime": {
     "end_time": "2019-03-14T05:00:58.713511Z",
     "start_time": "2019-03-14T05:00:58.540079Z"
    }
   },
   "outputs": [],
   "source": [
    "fhr_plot*ema_plot"
   ]
  },
  {
   "cell_type": "markdown",
   "metadata": {},
   "source": [
    "### Fill by rolling mean"
   ]
  },
  {
   "cell_type": "code",
   "execution_count": null,
   "metadata": {
    "ExecuteTime": {
     "end_time": "2019-03-14T05:00:59.480692Z",
     "start_time": "2019-03-14T05:00:59.458705Z"
    },
    "code_folding": [
     0,
     3
    ]
   },
   "outputs": [],
   "source": [
    "def previous_points(data,from_point,num_of_points):\n",
    "    return data[from_point-num_of_points:from_point]\n",
    "\n",
    "def pct_zero(signal):\n",
    "    c = 0\n",
    "    for i in signal:\n",
    "        if i==0:\n",
    "            c+=1\n",
    "    return c/len(signal)*100\n",
    "\n",
    "def fill_mean(rec,window_size):\n",
    "    rolling_window = window_size\n",
    "    signal = rec.fhr.copy() # We don't want to modify the actual signal by mistake so copy\n",
    "#     print(pct_zero(signal))\n",
    "    start_pt = rolling_window+1\n",
    "    corrected_fhr = signal.copy()\n",
    "    for i,c in enumerate(signal[start_pt:]):\n",
    "        if c == 0:\n",
    "            corrected_fhr[i+start_pt] = np.mean(previous_points(corrected_fhr,i+start_pt,rolling_window))\n",
    "    return corrected_fhr"
   ]
  },
  {
   "cell_type": "code",
   "execution_count": null,
   "metadata": {
    "ExecuteTime": {
     "end_time": "2019-03-14T05:01:00.333423Z",
     "start_time": "2019-03-14T05:00:59.826165Z"
    }
   },
   "outputs": [],
   "source": [
    "def load_signals(location, **kwargs):\n",
    "    rec = Record(location)\n",
    "    fhr_plot = rec.plot_fhr() \n",
    "    label_plot = rec.plot_labels()\n",
    "    uc_plot = rec.plot_uc()\n",
    "    corrected_fhr = fill_mean(rec,window_size = 50)\n",
    "    mean_fill = hv.Curve(corrected_fhr).opts(color = 'orange',line_width =1,line_alpha = 0.9)\n",
    "        \n",
    "    val_simple = ma(corrected_fhr, period = 100,type_ = 'simple')\n",
    "    ma_simple_plot = hv.Curve(val_simple,'FHR_ema').opts(color = 'red',line_width =1)\n",
    "    \n",
    "    uc_l1  = hv.HLine(20,).opts(line_dash = 'dotted',line_width = 1,color='red',)\n",
    "    uc_l2  = hv.HLine(60,).opts(line_dash = 'dotted',line_width = 1,color='red',)\n",
    "    uc_l3  = hv.HLine(100,).opts(line_dash = 'dotted',line_width = 1,color='red',)\n",
    "    \n",
    "    layout = fhr_plot * mean_fill  * ma_simple_plot + uc_plot*uc_l1*uc_l2*uc_l3 + label_plot \n",
    "    layout.cols(1)\n",
    "    return layout\n",
    "\n",
    "dmap = hv.DynamicMap(load_signals, kdims='FHR').redim.values(FHR=file_names)\n",
    "dmap"
   ]
  },
  {
   "cell_type": "markdown",
   "metadata": {},
   "source": [
    "### Missing values"
   ]
  },
  {
   "cell_type": "code",
   "execution_count": null,
   "metadata": {
    "ExecuteTime": {
     "end_time": "2019-03-14T05:01:00.337535Z",
     "start_time": "2019-03-14T05:01:00.335438Z"
    }
   },
   "outputs": [],
   "source": [
    "# missing = [pct_zero(Record(name).fhr) for name in file_names]"
   ]
  },
  {
   "cell_type": "code",
   "execution_count": null,
   "metadata": {
    "ExecuteTime": {
     "end_time": "2019-03-14T05:01:00.634356Z",
     "start_time": "2019-03-14T05:01:00.631627Z"
    }
   },
   "outputs": [],
   "source": [
    "# max(missing),min(missing),np.mean(missing)"
   ]
  },
  {
   "cell_type": "code",
   "execution_count": null,
   "metadata": {
    "ExecuteTime": {
     "end_time": "2019-03-14T05:01:00.733349Z",
     "start_time": "2019-03-14T05:01:00.730744Z"
    }
   },
   "outputs": [],
   "source": [
    "# m = pd.DataFrame(missing,columns=['m_val'])"
   ]
  },
  {
   "cell_type": "code",
   "execution_count": null,
   "metadata": {
    "ExecuteTime": {
     "end_time": "2019-03-14T05:01:00.850622Z",
     "start_time": "2019-03-14T05:01:00.846744Z"
    }
   },
   "outputs": [],
   "source": [
    "# len(m[m.m_val<1]),len(m[m.m_val<10]),len(m[m.m_val<20])"
   ]
  }
 ],
 "metadata": {
  "kernelspec": {
   "display_name": "Python 3",
   "language": "python",
   "name": "python3"
  },
  "language_info": {
   "codemirror_mode": {
    "name": "ipython",
    "version": 3
   },
   "file_extension": ".py",
   "mimetype": "text/x-python",
   "name": "python",
   "nbconvert_exporter": "python",
   "pygments_lexer": "ipython3",
   "version": "3.6.8"
  }
 },
 "nbformat": 4,
 "nbformat_minor": 2
}
