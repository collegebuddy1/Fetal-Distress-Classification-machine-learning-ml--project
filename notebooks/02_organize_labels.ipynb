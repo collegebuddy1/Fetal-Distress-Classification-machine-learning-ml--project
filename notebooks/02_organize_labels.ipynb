{
 "cells": [
  {
   "cell_type": "code",
   "execution_count": null,
   "metadata": {
    "ExecuteTime": {
     "end_time": "2019-03-14T05:01:15.242215Z",
     "start_time": "2019-03-14T05:01:14.823887Z"
    }
   },
   "outputs": [],
   "source": [
    "import pandas as pd\n",
    "import numpy as np\n",
    "import os\n",
    "import re\n",
    "from pathlib import Path\n",
    "from statistics import mode \n",
    "pd.options.display.max_columns = 100"
   ]
  },
  {
   "cell_type": "markdown",
   "metadata": {},
   "source": [
    "### Prepare Labels"
   ]
  },
  {
   "cell_type": "code",
   "execution_count": null,
   "metadata": {
    "ExecuteTime": {
     "end_time": "2019-03-14T05:01:16.189315Z",
     "start_time": "2019-03-14T05:01:16.182544Z"
    }
   },
   "outputs": [],
   "source": [
    "def try_mode(l):\n",
    "    try:\n",
    "        m = mode(l)\n",
    "    except:\n",
    "        m = int(np.median(l))\n",
    "    return m"
   ]
  },
  {
   "cell_type": "code",
   "execution_count": null,
   "metadata": {
    "ExecuteTime": {
     "end_time": "2019-03-14T05:01:16.524025Z",
     "start_time": "2019-03-14T05:01:16.503473Z"
    }
   },
   "outputs": [],
   "source": [
    "df = pd.read_csv('../data/label/labels.csv')"
   ]
  },
  {
   "cell_type": "code",
   "execution_count": null,
   "metadata": {
    "ExecuteTime": {
     "end_time": "2019-03-14T05:01:16.876344Z",
     "start_time": "2019-03-14T05:01:16.868310Z"
    }
   },
   "outputs": [],
   "source": [
    "df.replace(-1,0,inplace=True)"
   ]
  },
  {
   "cell_type": "code",
   "execution_count": null,
   "metadata": {
    "ExecuteTime": {
     "end_time": "2019-03-14T05:01:17.380635Z",
     "start_time": "2019-03-14T05:01:17.353572Z"
    }
   },
   "outputs": [],
   "source": [
    "v = 1003\n",
    "df[df.rec_id==v]"
   ]
  },
  {
   "cell_type": "code",
   "execution_count": null,
   "metadata": {
    "ExecuteTime": {
     "end_time": "2019-03-14T05:01:17.704474Z",
     "start_time": "2019-03-14T05:01:17.692094Z"
    }
   },
   "outputs": [],
   "source": [
    "t = np.sort(df[df.rec_id==v].eval_step1.values)\n",
    "t"
   ]
  },
  {
   "cell_type": "code",
   "execution_count": null,
   "metadata": {
    "ExecuteTime": {
     "end_time": "2019-03-14T05:01:17.973224Z",
     "start_time": "2019-03-14T05:01:17.964456Z"
    }
   },
   "outputs": [],
   "source": [
    "(np.mean(t)),(np.median(t)),try_mode(t)"
   ]
  },
  {
   "cell_type": "code",
   "execution_count": null,
   "metadata": {
    "ExecuteTime": {
     "end_time": "2019-03-14T05:01:18.241975Z",
     "start_time": "2019-03-14T05:01:18.235383Z"
    }
   },
   "outputs": [],
   "source": [
    "records = sorted(np.unique(df.rec_id.values))"
   ]
  },
  {
   "cell_type": "code",
   "execution_count": null,
   "metadata": {
    "ExecuteTime": {
     "end_time": "2019-03-14T05:01:18.451365Z",
     "start_time": "2019-03-14T05:01:18.446096Z"
    }
   },
   "outputs": [],
   "source": [
    "data_list = []"
   ]
  },
  {
   "cell_type": "code",
   "execution_count": null,
   "metadata": {
    "ExecuteTime": {
     "end_time": "2019-03-14T05:01:19.132483Z",
     "start_time": "2019-03-14T05:01:18.663438Z"
    }
   },
   "outputs": [],
   "source": [
    "for rec in records:\n",
    "    temp_df = df[df.rec_id==rec]\n",
    "    eval_step1 = try_mode(temp_df.eval_step1.values)\n",
    "    eval_step2 = try_mode(temp_df.eval_step2.values)\n",
    "    eval_step3 = try_mode(temp_df.eval_step3.values)\n",
    "    eval_step4 = try_mode(temp_df.eval_step4.values)\n",
    "    data = rec,eval_step1,eval_step2,eval_step3,eval_step4\n",
    "    data_list.append(data)"
   ]
  },
  {
   "cell_type": "code",
   "execution_count": null,
   "metadata": {
    "ExecuteTime": {
     "end_time": "2019-03-14T05:01:19.140873Z",
     "start_time": "2019-03-14T05:01:19.134433Z"
    }
   },
   "outputs": [],
   "source": [
    "labels = pd.DataFrame(data_list,columns=['rec_id','step1','step2','step3','step4'])\n",
    "labels.set_index('rec_id',inplace=True)"
   ]
  },
  {
   "cell_type": "code",
   "execution_count": null,
   "metadata": {
    "ExecuteTime": {
     "end_time": "2019-03-14T05:01:19.156216Z",
     "start_time": "2019-03-14T05:01:19.143964Z"
    }
   },
   "outputs": [],
   "source": [
    "labels.head()"
   ]
  },
  {
   "cell_type": "code",
   "execution_count": null,
   "metadata": {
    "ExecuteTime": {
     "end_time": "2019-03-14T05:01:19.180399Z",
     "start_time": "2019-03-14T05:01:19.171591Z"
    }
   },
   "outputs": [],
   "source": [
    "labels.to_csv('../data/label/label_df.csv')"
   ]
  },
  {
   "cell_type": "markdown",
   "metadata": {},
   "source": [
    "### Read pH"
   ]
  },
  {
   "cell_type": "code",
   "execution_count": null,
   "metadata": {
    "ExecuteTime": {
     "end_time": "2019-03-14T05:01:19.528228Z",
     "start_time": "2019-03-14T05:01:19.512609Z"
    }
   },
   "outputs": [],
   "source": [
    "labels= pd.read_csv('../data/label/label_df.csv')"
   ]
  },
  {
   "cell_type": "code",
   "execution_count": null,
   "metadata": {
    "ExecuteTime": {
     "end_time": "2019-03-14T05:01:19.759416Z",
     "start_time": "2019-03-14T05:01:19.752340Z"
    },
    "code_folding": []
   },
   "outputs": [],
   "source": [
    "def read_info(location):\n",
    "    info = dict()\n",
    "    f = open(str(location)+'.hea') #open info file\n",
    "    lines = [line for line in f.readlines()]\n",
    "    for line in lines[7:]:\n",
    "        if '#' in line:\n",
    "            if re.search(r'\\d+', line):\n",
    "                info[re.search(r'\\w+', line).group()] = re.search(r\"[-+]?\\d*\\.\\d+|\\d+\", line).group()\n",
    "    f.close()\n",
    "    return info"
   ]
  },
  {
   "cell_type": "code",
   "execution_count": null,
   "metadata": {
    "ExecuteTime": {
     "end_time": "2019-03-14T05:01:19.943676Z",
     "start_time": "2019-03-14T05:01:19.922761Z"
    }
   },
   "outputs": [],
   "source": [
    "data_path = Path('../data')\n",
    "file_names = [str(data_path/file)[:-4] for file in sorted(os.listdir(data_path)) if '.txt' in file]"
   ]
  },
  {
   "cell_type": "code",
   "execution_count": null,
   "metadata": {
    "ExecuteTime": {
     "end_time": "2019-03-14T05:01:20.418538Z",
     "start_time": "2019-03-14T05:01:20.153941Z"
    }
   },
   "outputs": [],
   "source": [
    "pH_list = []\n",
    "for file in file_names:\n",
    "    info = read_info(file)\n",
    "    rec = int(file.split('/')[-1])\n",
    "    pH = float(info['pH'])\n",
    "    pH_list.append([rec,pH])"
   ]
  },
  {
   "cell_type": "code",
   "execution_count": null,
   "metadata": {
    "ExecuteTime": {
     "end_time": "2019-03-14T05:01:20.421927Z",
     "start_time": "2019-03-14T05:01:20.420088Z"
    }
   },
   "outputs": [],
   "source": [
    "# pH_list"
   ]
  },
  {
   "cell_type": "code",
   "execution_count": null,
   "metadata": {
    "ExecuteTime": {
     "end_time": "2019-03-14T05:01:20.559257Z",
     "start_time": "2019-03-14T05:01:20.543657Z"
    }
   },
   "outputs": [],
   "source": [
    "pH_df = pd.DataFrame(pH_list,columns=['rec_id','pH_orig'])\n",
    "pH_df.set_index('rec_id',inplace = True)\n",
    "pH_df.head()"
   ]
  },
  {
   "cell_type": "code",
   "execution_count": null,
   "metadata": {
    "ExecuteTime": {
     "end_time": "2019-03-14T05:01:20.739791Z",
     "start_time": "2019-03-14T05:01:20.735088Z"
    }
   },
   "outputs": [],
   "source": [
    "labels.set_index('rec_id',inplace=True)"
   ]
  },
  {
   "cell_type": "code",
   "execution_count": null,
   "metadata": {
    "ExecuteTime": {
     "end_time": "2019-03-14T05:01:20.927671Z",
     "start_time": "2019-03-14T05:01:20.919958Z"
    }
   },
   "outputs": [],
   "source": [
    "labels_with_pH = pd.concat([labels, pH_df], axis=1)"
   ]
  },
  {
   "cell_type": "code",
   "execution_count": null,
   "metadata": {
    "ExecuteTime": {
     "end_time": "2019-03-14T05:01:21.095892Z",
     "start_time": "2019-03-14T05:01:21.081084Z"
    }
   },
   "outputs": [],
   "source": [
    "labels_with_pH.head()"
   ]
  },
  {
   "cell_type": "markdown",
   "metadata": {},
   "source": [
    "#### pH Classification"
   ]
  },
  {
   "cell_type": "markdown",
   "metadata": {},
   "source": [
    "From step 1 to 3, the clinicians evaluated CTG recordings as\n",
    "normal, suspicious, pathological or uninterpretable according to\n",
    "their daily practice. In step 4, clinicians predicted a labour outcome\n",
    "(umbilical artery pH after delivery), divided into four categories\n",
    "696\n",
    "as no hypoxia (normal), mild hypoxia (suspicious), severe\n",
    "hypoxia (pathological) or uninterpretable. During introduction of\n",
    "CTGAnnotator these classes were described in terms of pH value\n",
    "\n",
    "\n",
    "`(pH > 7.15 for no hypoxia; 7.15 ≥ pH > 7.05 for mild hypoxia and pH ≤ 7.05 for severe hypoxia)`.\n",
    "\n",
    "For the step 4, occurrences of risk\n",
    "factors, as written in the patient record, were provided in addition to\n",
    "the basic clinical information described earlier. It included presence\n",
    "of diabetes, fever, hypertension, preeclampsia, meconium stained\n",
    "amniotic fluid or induction of labour.`Source: pdf_file`\n",
    "\n",
    "\n",
    "1. `eval_step1-3` - annotation of step 1 to 3 :\n",
    "       values (normal=1, suspicious=2, pathological=3, ninterpretable=-1)\n",
    "2. `eval_step4` - annotation of step 4, \n",
    "       values (no hypoxia=1, mild hypoxia=2, severe hypoxia=3, uninterpretable=-1)"
   ]
  },
  {
   "cell_type": "code",
   "execution_count": null,
   "metadata": {
    "ExecuteTime": {
     "end_time": "2019-03-14T05:01:21.599661Z",
     "start_time": "2019-03-14T05:01:21.591047Z"
    }
   },
   "outputs": [],
   "source": [
    "def classify_pH(pH):\n",
    "    if pH > 7.15:\n",
    "        return 1\n",
    "    elif pH <=7.15 and pH >7.05:\n",
    "        return 2\n",
    "    elif pH <=7.05:\n",
    "        return 3"
   ]
  },
  {
   "cell_type": "code",
   "execution_count": null,
   "metadata": {
    "ExecuteTime": {
     "end_time": "2019-03-14T05:01:21.746685Z",
     "start_time": "2019-03-14T05:01:21.739472Z"
    }
   },
   "outputs": [],
   "source": [
    "labels_with_pH['pH'] = labels_with_pH.pH_orig.apply(classify_pH)"
   ]
  },
  {
   "cell_type": "code",
   "execution_count": null,
   "metadata": {
    "ExecuteTime": {
     "end_time": "2019-03-14T05:01:22.046473Z",
     "start_time": "2019-03-14T05:01:22.031549Z"
    }
   },
   "outputs": [],
   "source": [
    "labels_with_pH.head()"
   ]
  },
  {
   "cell_type": "markdown",
   "metadata": {},
   "source": [
    "#### Total Cases"
   ]
  },
  {
   "cell_type": "markdown",
   "metadata": {},
   "source": [
    "##### Normal , no hypoxia , pH > 7.15 , class = 1"
   ]
  },
  {
   "cell_type": "code",
   "execution_count": null,
   "metadata": {
    "ExecuteTime": {
     "end_time": "2019-03-14T05:01:22.549538Z",
     "start_time": "2019-03-14T05:01:22.536137Z"
    }
   },
   "outputs": [],
   "source": [
    "len(labels_with_pH[labels_with_pH.pH==1])"
   ]
  },
  {
   "cell_type": "markdown",
   "metadata": {},
   "source": [
    "##### Suspicious, mild hypoxia, 7.15 ≥ pH > 7.05, class = 2"
   ]
  },
  {
   "cell_type": "code",
   "execution_count": null,
   "metadata": {
    "ExecuteTime": {
     "end_time": "2019-03-14T05:01:22.873300Z",
     "start_time": "2019-03-14T05:01:22.864717Z"
    }
   },
   "outputs": [],
   "source": [
    "len(labels_with_pH[labels_with_pH.pH==2])"
   ]
  },
  {
   "cell_type": "markdown",
   "metadata": {
    "ExecuteTime": {
     "end_time": "2019-02-23T09:44:42.097820Z",
     "start_time": "2019-02-23T09:44:42.093377Z"
    }
   },
   "source": [
    "##### Pathological,severe hypoxia, pH ≤ 7.05, class = 3"
   ]
  },
  {
   "cell_type": "code",
   "execution_count": null,
   "metadata": {
    "ExecuteTime": {
     "end_time": "2019-03-14T05:01:23.189326Z",
     "start_time": "2019-03-14T05:01:23.181020Z"
    }
   },
   "outputs": [],
   "source": [
    "len(labels_with_pH[labels_with_pH.pH==3])"
   ]
  },
  {
   "cell_type": "code",
   "execution_count": null,
   "metadata": {
    "ExecuteTime": {
     "end_time": "2019-03-14T05:01:23.360070Z",
     "start_time": "2019-03-14T05:01:23.348084Z"
    }
   },
   "outputs": [],
   "source": [
    "labels_with_pH.to_csv('../data/label/labels_with_pH.csv')"
   ]
  },
  {
   "cell_type": "markdown",
   "metadata": {},
   "source": [
    "### Inspect Labels"
   ]
  },
  {
   "cell_type": "code",
   "execution_count": null,
   "metadata": {
    "ExecuteTime": {
     "end_time": "2019-03-14T05:01:23.734803Z",
     "start_time": "2019-03-14T05:01:23.721737Z"
    }
   },
   "outputs": [],
   "source": [
    "labels = pd.read_csv('../data/label/labels_with_pH.csv')"
   ]
  },
  {
   "cell_type": "code",
   "execution_count": null,
   "metadata": {
    "ExecuteTime": {
     "end_time": "2019-03-14T05:01:23.881578Z",
     "start_time": "2019-03-14T05:01:23.867891Z"
    }
   },
   "outputs": [],
   "source": [
    "labels.head()"
   ]
  },
  {
   "cell_type": "code",
   "execution_count": null,
   "metadata": {
    "ExecuteTime": {
     "end_time": "2019-03-14T05:01:24.054011Z",
     "start_time": "2019-03-14T05:01:24.048319Z"
    }
   },
   "outputs": [],
   "source": [
    "len(labels[labels.step1==labels.step2])"
   ]
  },
  {
   "cell_type": "code",
   "execution_count": null,
   "metadata": {
    "ExecuteTime": {
     "end_time": "2019-03-14T05:01:24.215873Z",
     "start_time": "2019-03-14T05:01:24.206584Z"
    }
   },
   "outputs": [],
   "source": [
    "len(labels[labels.step2==labels.step3])"
   ]
  },
  {
   "cell_type": "code",
   "execution_count": null,
   "metadata": {
    "ExecuteTime": {
     "end_time": "2019-03-14T05:01:24.401812Z",
     "start_time": "2019-03-14T05:01:24.385059Z"
    }
   },
   "outputs": [],
   "source": [
    "label_1_eq_2 = labels[labels.step1==labels.step2]\n",
    "label_2_eq_3 = labels[labels.step2==labels.step3]\n",
    "label_1_eq_2_eq_3 = label_1_eq_2[label_1_eq_2.step2==label_1_eq_2.step3]\n",
    "label_1_eq_2_eq_3_eq_pH = label_1_eq_2_eq_3[label_1_eq_2_eq_3.step3==label_1_eq_2_eq_3.pH]"
   ]
  },
  {
   "cell_type": "code",
   "execution_count": null,
   "metadata": {
    "ExecuteTime": {
     "end_time": "2019-03-14T05:01:24.534103Z",
     "start_time": "2019-03-14T05:01:24.529007Z"
    }
   },
   "outputs": [],
   "source": [
    "lenghts = len(label_1_eq_2),len(label_2_eq_3),len(label_1_eq_2_eq_3),len(label_1_eq_2_eq_3_eq_pH)\n",
    "lenghts"
   ]
  },
  {
   "cell_type": "code",
   "execution_count": null,
   "metadata": {
    "ExecuteTime": {
     "end_time": "2019-03-14T05:01:24.696501Z",
     "start_time": "2019-03-14T05:01:24.687379Z"
    }
   },
   "outputs": [],
   "source": [
    "s = 0\n",
    "for l in lenghts: s+= l #sum of lengths\n",
    "s"
   ]
  },
  {
   "cell_type": "markdown",
   "metadata": {},
   "source": [
    "### Accuracy of Medical Experts"
   ]
  },
  {
   "cell_type": "markdown",
   "metadata": {},
   "source": [
    "This has been found out by comparing step4(prediction of experts) with actual pH."
   ]
  },
  {
   "cell_type": "code",
   "execution_count": null,
   "metadata": {
    "ExecuteTime": {
     "end_time": "2019-03-14T05:01:25.436796Z",
     "start_time": "2019-03-14T05:01:25.429784Z"
    }
   },
   "outputs": [],
   "source": [
    "len(labels[labels.step4==labels.pH])/len(labels)"
   ]
  },
  {
   "cell_type": "code",
   "execution_count": null,
   "metadata": {},
   "outputs": [],
   "source": []
  }
 ],
 "metadata": {
  "kernelspec": {
   "display_name": "Python 3",
   "language": "python",
   "name": "python3"
  },
  "language_info": {
   "codemirror_mode": {
    "name": "ipython",
    "version": 3
   },
   "file_extension": ".py",
   "mimetype": "text/x-python",
   "name": "python",
   "nbconvert_exporter": "python",
   "pygments_lexer": "ipython3",
   "version": "3.6.8"
  }
 },
 "nbformat": 4,
 "nbformat_minor": 2
}
